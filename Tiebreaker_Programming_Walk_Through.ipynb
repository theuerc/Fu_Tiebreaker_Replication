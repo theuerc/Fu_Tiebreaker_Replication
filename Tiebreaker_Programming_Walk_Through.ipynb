{
  "cells": [
    {
      "cell_type": "markdown",
      "metadata": {
        "id": "tH70HNC1XJAL"
      },
      "source": [
        "Group 1 / Coulton Theuer, JingJie Wan, Tammy Yang, Nicole Chen\n",
        "\n",
        "\n",
        "---\n",
        "\n",
        "\n",
        "#**Tie-breaker: Using language models to quantify gender bias in sports journalism**\n",
        "(Liye Fu and Cristian Danescu-Niculescu-Mizil and Lillian Lee, 2016)\n",
        "\n",
        "\n",
        "---\n",
        "\n"
      ]
    },
    {
      "cell_type": "markdown",
      "metadata": {
        "id": "vXc8wPqqX82f"
      },
      "source": [
        "#**Step1: BACKGROUND SETTING**"
      ]
    },
    {
      "cell_type": "code",
      "execution_count": 174,
      "metadata": {
        "colab": {
          "base_uri": "https://localhost:8080/"
        },
        "id": "ZyyGEH9nAXE-",
        "outputId": "c3bf0b64-9bd6-4034-a9a6-e7b942654835"
      },
      "outputs": [
        {
          "name": "stdout",
          "output_type": "stream",
          "text": [
            "Collecting https://github.com/kpu/kenlm/archive/master.zip\n",
            "  Using cached https://github.com/kpu/kenlm/archive/master.zip\n",
            "  Installing build dependencies ... \u001b[?25l\u001b[?25hdone\n",
            "  Getting requirements to build wheel ... \u001b[?25l\u001b[?25hdone\n",
            "  Preparing metadata (pyproject.toml) ... \u001b[?25l\u001b[?25hdone\n",
            "Reading package lists... Done\n",
            "Building dependency tree... Done\n",
            "Reading state information... Done\n",
            "build-essential is already the newest version (12.9ubuntu3).\n",
            "libboost-program-options-dev is already the newest version (1.74.0.3ubuntu7).\n",
            "libboost-system-dev is already the newest version (1.74.0.3ubuntu7).\n",
            "libboost-thread-dev is already the newest version (1.74.0.3ubuntu7).\n",
            "libbz2-dev is already the newest version (1.0.8-5build1).\n",
            "liblzma-dev is already the newest version (5.2.5-2ubuntu1).\n",
            "libboost-test-dev is already the newest version (1.74.0.3ubuntu7).\n",
            "libeigen3-dev is already the newest version (3.4.0-2ubuntu2).\n",
            "cmake is already the newest version (3.22.1-1ubuntu1.22.04.1).\n",
            "zlib1g-dev is already the newest version (1:1.2.11.dfsg-2ubuntu9.2).\n",
            "0 upgraded, 0 newly installed, 0 to remove and 32 not upgraded.\n",
            "--2024-02-12 07:52:10--  https://kheafield.com/code/kenlm.tar.gz\n",
            "Resolving kheafield.com (kheafield.com)... 35.196.63.85\n",
            "Connecting to kheafield.com (kheafield.com)|35.196.63.85|:443... connected.\n",
            "HTTP request sent, awaiting response... 200 OK\n",
            "Length: 491888 (480K) [application/x-gzip]\n",
            "Saving to: ‘STDOUT’\n",
            "\n",
            "-                   100%[===================>] 480.36K  --.-KB/s    in 0.07s   \n",
            "\n",
            "2024-02-12 07:52:10 (6.27 MB/s) - written to stdout [491888/491888]\n",
            "\n",
            "mkdir: cannot create directory ‘kenlm/build’: File exists\n",
            "build_binary  fragment\t       lmplz\t\t\t     query\n",
            "count_ngrams  interpolate      phrase_table_vocab\t     streaming_example\n",
            "filter\t      kenlm_benchmark  probing_hash_table_benchmark\n"
          ]
        }
      ],
      "source": [
        "# install KenLM\n",
        "! pip install https://github.com/kpu/kenlm/archive/master.zip\n",
        "! sudo apt -y install build-essential cmake libboost-system-dev libboost-thread-dev libboost-program-options-dev libboost-test-dev libeigen3-dev zlib1g-dev libbz2-dev liblzma-dev\n",
        "! wget -O - https://kheafield.com/code/kenlm.tar.gz | tar xz\n",
        "! mkdir kenlm/build && cd kenlm/build && cmake .. && make -j2\n",
        "! ls kenlm/build/bin"
      ]
    },
    {
      "cell_type": "code",
      "execution_count": 205,
      "metadata": {
        "id": "0gKO6CbUDH9c"
      },
      "outputs": [],
      "source": [
        "# required packages\n",
        "import json\n",
        "import requests\n",
        "import pandas as pd\n",
        "import kenlm\n",
        "import sys\n",
        "import os\n",
        "import tqdm\n",
        "import spacy\n",
        "import math\n",
        "from collections import Counter"
      ]
    },
    {
      "cell_type": "code",
      "execution_count": 206,
      "metadata": {
        "id": "Vq0OuPzhJ9YS"
      },
      "outputs": [],
      "source": [
        "# enable dataframe display format in this ipynb\n",
        "from google.colab import data_table\n",
        "data_table.enable_dataframe_formatter()"
      ]
    },
    {
      "cell_type": "code",
      "execution_count": 177,
      "metadata": {
        "colab": {
          "base_uri": "https://localhost:8080/"
        },
        "id": "hQvnpYfYCQI2",
        "outputId": "5ccf1fdd-fa76-4d56-c229-8872664fa0b3"
      },
      "outputs": [
        {
          "name": "stdout",
          "output_type": "stream",
          "text": [
            "Drive already mounted at /content/drive; to attempt to forcibly remount, call drive.mount(\"/content/drive\", force_remount=True).\n"
          ]
        }
      ],
      "source": [
        "# connet to tutorial drive folder for data files\n",
        "from google.colab import drive\n",
        "drive.mount('/content/drive')"
      ]
    },
    {
      "cell_type": "code",
      "execution_count": 178,
      "metadata": {
        "id": "osGODHKWCUvl"
      },
      "outputs": [],
      "source": [
        "GOOGLE_DRIVE_PATH_AFTER_MYDRIVE = ''\n",
        "GOOGLE_DRIVE_PATH = os.path.join('drive', 'My Drive', 'si699_teaching_tutorial', 'tennis_data', GOOGLE_DRIVE_PATH_AFTER_MYDRIVE)\n",
        "sys.path.append(GOOGLE_DRIVE_PATH)\n",
        "commentary_data_path = os.path.join(GOOGLE_DRIVE_PATH, 'text_commentaries.json')"
      ]
    },
    {
      "cell_type": "code",
      "execution_count": 179,
      "metadata": {
        "colab": {
          "base_uri": "https://localhost:8080/",
          "height": 312
        },
        "id": "yzqSTvTxGGG-",
        "outputId": "4776d14f-c4eb-42b5-ce50-14afba429741"
      },
      "outputs": [
        {
          "data": {
            "application/vnd.google.colaboratory.module+javascript": "\n      import \"https://ssl.gstatic.com/colaboratory/data_table/881c4a0d49046431/data_table.js\";\n\n      const table = window.createDataTable({\n        data: [[{\n            'v': 0,\n            'f': \"0\",\n        },\n\"Makarova slumps back into making unforced errors again as she finds the net with her first forehand of the game, while her second isn't much better as she overhits when attempting to clip the baseline. Sharapova hits an accurate serve down the 'T' to bring up three set points. Another pinpoint serves proves too difficult to return as the number two seed claims the first set.\",\n\"Sharapova 6-3* Makarova\",\n\"F\"],\n [{\n            'v': 1,\n            'f': \"1\",\n        },\n\"Just look in her match with Heather Watson last week, Serena is desperate to shake herself into action. She lets out an almighty shriek when she goes 30-15 up, but Azarenka responds with a brilliant forehand. The level of Williams' scream goes up and up during the next point, and she lets out another roar when she belts a forehand cross court win the point. She wraps the game up next time round, and she looked something like back to her best there!\",\n\"Williams 3-6 2-1* Azarenka\",\n\"F\"],\n [{\n            'v': 2,\n            'f': \"2\",\n        },\n\"Sharapova saves a break point to hold her serve. Williams made some aggressive returns, but the Russian found her stride towards the end of the game, finishing the a great forehand shot.\",\n\"Williams *0-2 Sharapova\",\n\"F\"],\n [{\n            'v': 3,\n            'f': \"3\",\n        },\n\"Erakovic is looking superb behind her serve, and she displays her power with a love-service hold. The world number 71's service games are flying by too fast right now, which is something that Robson will have to change or else she will quickly find herself a set behind.\",\n\"Robson 1-4* Erakovic\",\n\"F\"],\n [{\n            'v': 4,\n            'f': \"4\",\n        },\n\"She can't save another one and Williams is now within a game of levelling the match. The American hasn't made a single unforced error in this set.\",\n\"Williams 2-6 5-1* Lisicki\",\n\"F\"]],\n        columns: [[\"number\", \"index\"], [\"string\", \"commentary\"], [\"string\", \"scoreline\"], [\"string\", \"gender\"]],\n        columnOptions: [{\"width\": \"1px\", \"className\": \"index_column\"}],\n        rowsPerPage: 25,\n        helpUrl: \"https://colab.research.google.com/notebooks/data_table.ipynb\",\n        suppressOutputScrolling: true,\n        minimumWidth: undefined,\n      });\n\n      function appendQuickchartButton(parentElement) {\n        let quickchartButtonContainerElement = document.createElement('div');\n        quickchartButtonContainerElement.innerHTML = `\n<div id=\"df-fa5c1bd5-21b3-48c0-9518-41cb99621341\">\n  <button class=\"colab-df-quickchart\" onclick=\"quickchart('df-fa5c1bd5-21b3-48c0-9518-41cb99621341')\"\n            title=\"Suggest charts\"\n            style=\"display:none;\">\n    \n<svg xmlns=\"http://www.w3.org/2000/svg\" height=\"24px\"viewBox=\"0 0 24 24\"\n     width=\"24px\">\n    <g>\n        <path d=\"M19 3H5c-1.1 0-2 .9-2 2v14c0 1.1.9 2 2 2h14c1.1 0 2-.9 2-2V5c0-1.1-.9-2-2-2zM9 17H7v-7h2v7zm4 0h-2V7h2v10zm4 0h-2v-4h2v4z\"/>\n    </g>\n</svg>\n  </button>\n  \n<style>\n  .colab-df-quickchart {\n      --bg-color: #E8F0FE;\n      --fill-color: #1967D2;\n      --hover-bg-color: #E2EBFA;\n      --hover-fill-color: #174EA6;\n      --disabled-fill-color: #AAA;\n      --disabled-bg-color: #DDD;\n  }\n\n  [theme=dark] .colab-df-quickchart {\n      --bg-color: #3B4455;\n      --fill-color: #D2E3FC;\n      --hover-bg-color: #434B5C;\n      --hover-fill-color: #FFFFFF;\n      --disabled-bg-color: #3B4455;\n      --disabled-fill-color: #666;\n  }\n\n  .colab-df-quickchart {\n    background-color: var(--bg-color);\n    border: none;\n    border-radius: 50%;\n    cursor: pointer;\n    display: none;\n    fill: var(--fill-color);\n    height: 32px;\n    padding: 0;\n    width: 32px;\n  }\n\n  .colab-df-quickchart:hover {\n    background-color: var(--hover-bg-color);\n    box-shadow: 0 1px 2px rgba(60, 64, 67, 0.3), 0 1px 3px 1px rgba(60, 64, 67, 0.15);\n    fill: var(--button-hover-fill-color);\n  }\n\n  .colab-df-quickchart-complete:disabled,\n  .colab-df-quickchart-complete:disabled:hover {\n    background-color: var(--disabled-bg-color);\n    fill: var(--disabled-fill-color);\n    box-shadow: none;\n  }\n\n  .colab-df-spinner {\n    border: 2px solid var(--fill-color);\n    border-color: transparent;\n    border-bottom-color: var(--fill-color);\n    animation:\n      spin 1s steps(1) infinite;\n  }\n\n  @keyframes spin {\n    0% {\n      border-color: transparent;\n      border-bottom-color: var(--fill-color);\n      border-left-color: var(--fill-color);\n    }\n    20% {\n      border-color: transparent;\n      border-left-color: var(--fill-color);\n      border-top-color: var(--fill-color);\n    }\n    30% {\n      border-color: transparent;\n      border-left-color: var(--fill-color);\n      border-top-color: var(--fill-color);\n      border-right-color: var(--fill-color);\n    }\n    40% {\n      border-color: transparent;\n      border-right-color: var(--fill-color);\n      border-top-color: var(--fill-color);\n    }\n    60% {\n      border-color: transparent;\n      border-right-color: var(--fill-color);\n    }\n    80% {\n      border-color: transparent;\n      border-right-color: var(--fill-color);\n      border-bottom-color: var(--fill-color);\n    }\n    90% {\n      border-color: transparent;\n      border-bottom-color: var(--fill-color);\n    }\n  }\n</style>\n\n  <script>\n    async function quickchart(key) {\n      const quickchartButtonEl =\n        document.querySelector('#' + key + ' button');\n      quickchartButtonEl.disabled = true;  // To prevent multiple clicks.\n      quickchartButtonEl.classList.add('colab-df-spinner');\n      try {\n        const charts = await google.colab.kernel.invokeFunction(\n            'suggestCharts', [key], {});\n      } catch (error) {\n        console.error('Error during call to suggestCharts:', error);\n      }\n      quickchartButtonEl.classList.remove('colab-df-spinner');\n      quickchartButtonEl.classList.add('colab-df-quickchart-complete');\n    }\n    (() => {\n      let quickchartButtonEl =\n        document.querySelector('#df-fa5c1bd5-21b3-48c0-9518-41cb99621341 button');\n      quickchartButtonEl.style.display =\n        google.colab.kernel.accessAllowed ? 'block' : 'none';\n    })();\n  </script>\n</div>`;\n        parentElement.appendChild(quickchartButtonContainerElement);\n      }\n\n      appendQuickchartButton(table);\n    ",
            "text/html": [
              "\n",
              "  <div id=\"df-b7964850-80e4-40d2-9719-c7b3271d7c3b\" class=\"colab-df-container\">\n",
              "    <div>\n",
              "<style scoped>\n",
              "    .dataframe tbody tr th:only-of-type {\n",
              "        vertical-align: middle;\n",
              "    }\n",
              "\n",
              "    .dataframe tbody tr th {\n",
              "        vertical-align: top;\n",
              "    }\n",
              "\n",
              "    .dataframe thead th {\n",
              "        text-align: right;\n",
              "    }\n",
              "</style>\n",
              "<table border=\"1\" class=\"dataframe\">\n",
              "  <thead>\n",
              "    <tr style=\"text-align: right;\">\n",
              "      <th></th>\n",
              "      <th>commentary</th>\n",
              "      <th>scoreline</th>\n",
              "      <th>gender</th>\n",
              "    </tr>\n",
              "  </thead>\n",
              "  <tbody>\n",
              "    <tr>\n",
              "      <th>0</th>\n",
              "      <td>Makarova slumps back into making unforced erro...</td>\n",
              "      <td>Sharapova 6-3* Makarova</td>\n",
              "      <td>F</td>\n",
              "    </tr>\n",
              "    <tr>\n",
              "      <th>1</th>\n",
              "      <td>Just look in her match with Heather Watson las...</td>\n",
              "      <td>Williams 3-6 2-1* Azarenka</td>\n",
              "      <td>F</td>\n",
              "    </tr>\n",
              "    <tr>\n",
              "      <th>2</th>\n",
              "      <td>Sharapova saves a break point to hold her serv...</td>\n",
              "      <td>Williams *0-2 Sharapova</td>\n",
              "      <td>F</td>\n",
              "    </tr>\n",
              "    <tr>\n",
              "      <th>3</th>\n",
              "      <td>Erakovic is looking superb behind her serve, a...</td>\n",
              "      <td>Robson 1-4* Erakovic</td>\n",
              "      <td>F</td>\n",
              "    </tr>\n",
              "    <tr>\n",
              "      <th>4</th>\n",
              "      <td>She can't save another one and Williams is now...</td>\n",
              "      <td>Williams 2-6 5-1* Lisicki</td>\n",
              "      <td>F</td>\n",
              "    </tr>\n",
              "  </tbody>\n",
              "</table>\n",
              "</div>\n",
              "    <div class=\"colab-df-buttons\">\n",
              "\n",
              "  <div class=\"colab-df-container\">\n",
              "    <button class=\"colab-df-convert\" onclick=\"convertToInteractive('df-b7964850-80e4-40d2-9719-c7b3271d7c3b')\"\n",
              "            title=\"Convert this dataframe to an interactive table.\"\n",
              "            style=\"display:none;\">\n",
              "\n",
              "  <svg xmlns=\"http://www.w3.org/2000/svg\" height=\"24px\" viewBox=\"0 -960 960 960\">\n",
              "    <path d=\"M120-120v-720h720v720H120Zm60-500h600v-160H180v160Zm220 220h160v-160H400v160Zm0 220h160v-160H400v160ZM180-400h160v-160H180v160Zm440 0h160v-160H620v160ZM180-180h160v-160H180v160Zm440 0h160v-160H620v160Z\"/>\n",
              "  </svg>\n",
              "    </button>\n",
              "\n",
              "  <style>\n",
              "    .colab-df-container {\n",
              "      display:flex;\n",
              "      gap: 12px;\n",
              "    }\n",
              "\n",
              "    .colab-df-convert {\n",
              "      background-color: #E8F0FE;\n",
              "      border: none;\n",
              "      border-radius: 50%;\n",
              "      cursor: pointer;\n",
              "      display: none;\n",
              "      fill: #1967D2;\n",
              "      height: 32px;\n",
              "      padding: 0 0 0 0;\n",
              "      width: 32px;\n",
              "    }\n",
              "\n",
              "    .colab-df-convert:hover {\n",
              "      background-color: #E2EBFA;\n",
              "      box-shadow: 0px 1px 2px rgba(60, 64, 67, 0.3), 0px 1px 3px 1px rgba(60, 64, 67, 0.15);\n",
              "      fill: #174EA6;\n",
              "    }\n",
              "\n",
              "    .colab-df-buttons div {\n",
              "      margin-bottom: 4px;\n",
              "    }\n",
              "\n",
              "    [theme=dark] .colab-df-convert {\n",
              "      background-color: #3B4455;\n",
              "      fill: #D2E3FC;\n",
              "    }\n",
              "\n",
              "    [theme=dark] .colab-df-convert:hover {\n",
              "      background-color: #434B5C;\n",
              "      box-shadow: 0px 1px 3px 1px rgba(0, 0, 0, 0.15);\n",
              "      filter: drop-shadow(0px 1px 2px rgba(0, 0, 0, 0.3));\n",
              "      fill: #FFFFFF;\n",
              "    }\n",
              "  </style>\n",
              "\n",
              "    <script>\n",
              "      const buttonEl =\n",
              "        document.querySelector('#df-b7964850-80e4-40d2-9719-c7b3271d7c3b button.colab-df-convert');\n",
              "      buttonEl.style.display =\n",
              "        google.colab.kernel.accessAllowed ? 'block' : 'none';\n",
              "\n",
              "      async function convertToInteractive(key) {\n",
              "        const element = document.querySelector('#df-b7964850-80e4-40d2-9719-c7b3271d7c3b');\n",
              "        const dataTable =\n",
              "          await google.colab.kernel.invokeFunction('convertToInteractive',\n",
              "                                                    [key], {});\n",
              "        if (!dataTable) return;\n",
              "\n",
              "        const docLinkHtml = 'Like what you see? Visit the ' +\n",
              "          '<a target=\"_blank\" href=https://colab.research.google.com/notebooks/data_table.ipynb>data table notebook</a>'\n",
              "          + ' to learn more about interactive tables.';\n",
              "        element.innerHTML = '';\n",
              "        dataTable['output_type'] = 'display_data';\n",
              "        await google.colab.output.renderOutput(dataTable, element);\n",
              "        const docLink = document.createElement('div');\n",
              "        docLink.innerHTML = docLinkHtml;\n",
              "        element.appendChild(docLink);\n",
              "      }\n",
              "    </script>\n",
              "  </div>\n",
              "\n",
              "\n",
              "<div id=\"df-2a9ba499-7b52-4fae-b29f-768bc78d7b26\">\n",
              "  <button class=\"colab-df-quickchart\" onclick=\"quickchart('df-2a9ba499-7b52-4fae-b29f-768bc78d7b26')\"\n",
              "            title=\"Suggest charts\"\n",
              "            style=\"display:none;\">\n",
              "\n",
              "<svg xmlns=\"http://www.w3.org/2000/svg\" height=\"24px\"viewBox=\"0 0 24 24\"\n",
              "     width=\"24px\">\n",
              "    <g>\n",
              "        <path d=\"M19 3H5c-1.1 0-2 .9-2 2v14c0 1.1.9 2 2 2h14c1.1 0 2-.9 2-2V5c0-1.1-.9-2-2-2zM9 17H7v-7h2v7zm4 0h-2V7h2v10zm4 0h-2v-4h2v4z\"/>\n",
              "    </g>\n",
              "</svg>\n",
              "  </button>\n",
              "\n",
              "<style>\n",
              "  .colab-df-quickchart {\n",
              "      --bg-color: #E8F0FE;\n",
              "      --fill-color: #1967D2;\n",
              "      --hover-bg-color: #E2EBFA;\n",
              "      --hover-fill-color: #174EA6;\n",
              "      --disabled-fill-color: #AAA;\n",
              "      --disabled-bg-color: #DDD;\n",
              "  }\n",
              "\n",
              "  [theme=dark] .colab-df-quickchart {\n",
              "      --bg-color: #3B4455;\n",
              "      --fill-color: #D2E3FC;\n",
              "      --hover-bg-color: #434B5C;\n",
              "      --hover-fill-color: #FFFFFF;\n",
              "      --disabled-bg-color: #3B4455;\n",
              "      --disabled-fill-color: #666;\n",
              "  }\n",
              "\n",
              "  .colab-df-quickchart {\n",
              "    background-color: var(--bg-color);\n",
              "    border: none;\n",
              "    border-radius: 50%;\n",
              "    cursor: pointer;\n",
              "    display: none;\n",
              "    fill: var(--fill-color);\n",
              "    height: 32px;\n",
              "    padding: 0;\n",
              "    width: 32px;\n",
              "  }\n",
              "\n",
              "  .colab-df-quickchart:hover {\n",
              "    background-color: var(--hover-bg-color);\n",
              "    box-shadow: 0 1px 2px rgba(60, 64, 67, 0.3), 0 1px 3px 1px rgba(60, 64, 67, 0.15);\n",
              "    fill: var(--button-hover-fill-color);\n",
              "  }\n",
              "\n",
              "  .colab-df-quickchart-complete:disabled,\n",
              "  .colab-df-quickchart-complete:disabled:hover {\n",
              "    background-color: var(--disabled-bg-color);\n",
              "    fill: var(--disabled-fill-color);\n",
              "    box-shadow: none;\n",
              "  }\n",
              "\n",
              "  .colab-df-spinner {\n",
              "    border: 2px solid var(--fill-color);\n",
              "    border-color: transparent;\n",
              "    border-bottom-color: var(--fill-color);\n",
              "    animation:\n",
              "      spin 1s steps(1) infinite;\n",
              "  }\n",
              "\n",
              "  @keyframes spin {\n",
              "    0% {\n",
              "      border-color: transparent;\n",
              "      border-bottom-color: var(--fill-color);\n",
              "      border-left-color: var(--fill-color);\n",
              "    }\n",
              "    20% {\n",
              "      border-color: transparent;\n",
              "      border-left-color: var(--fill-color);\n",
              "      border-top-color: var(--fill-color);\n",
              "    }\n",
              "    30% {\n",
              "      border-color: transparent;\n",
              "      border-left-color: var(--fill-color);\n",
              "      border-top-color: var(--fill-color);\n",
              "      border-right-color: var(--fill-color);\n",
              "    }\n",
              "    40% {\n",
              "      border-color: transparent;\n",
              "      border-right-color: var(--fill-color);\n",
              "      border-top-color: var(--fill-color);\n",
              "    }\n",
              "    60% {\n",
              "      border-color: transparent;\n",
              "      border-right-color: var(--fill-color);\n",
              "    }\n",
              "    80% {\n",
              "      border-color: transparent;\n",
              "      border-right-color: var(--fill-color);\n",
              "      border-bottom-color: var(--fill-color);\n",
              "    }\n",
              "    90% {\n",
              "      border-color: transparent;\n",
              "      border-bottom-color: var(--fill-color);\n",
              "    }\n",
              "  }\n",
              "</style>\n",
              "\n",
              "  <script>\n",
              "    async function quickchart(key) {\n",
              "      const quickchartButtonEl =\n",
              "        document.querySelector('#' + key + ' button');\n",
              "      quickchartButtonEl.disabled = true;  // To prevent multiple clicks.\n",
              "      quickchartButtonEl.classList.add('colab-df-spinner');\n",
              "      try {\n",
              "        const charts = await google.colab.kernel.invokeFunction(\n",
              "            'suggestCharts', [key], {});\n",
              "      } catch (error) {\n",
              "        console.error('Error during call to suggestCharts:', error);\n",
              "      }\n",
              "      quickchartButtonEl.classList.remove('colab-df-spinner');\n",
              "      quickchartButtonEl.classList.add('colab-df-quickchart-complete');\n",
              "    }\n",
              "    (() => {\n",
              "      let quickchartButtonEl =\n",
              "        document.querySelector('#df-2a9ba499-7b52-4fae-b29f-768bc78d7b26 button');\n",
              "      quickchartButtonEl.style.display =\n",
              "        google.colab.kernel.accessAllowed ? 'block' : 'none';\n",
              "    })();\n",
              "  </script>\n",
              "</div>\n",
              "    </div>\n",
              "  </div>\n"
            ],
            "text/plain": [
              "                                          commentary  \\\n",
              "0  Makarova slumps back into making unforced erro...   \n",
              "1  Just look in her match with Heather Watson las...   \n",
              "2  Sharapova saves a break point to hold her serv...   \n",
              "3  Erakovic is looking superb behind her serve, a...   \n",
              "4  She can't save another one and Williams is now...   \n",
              "\n",
              "                    scoreline gender  \n",
              "0     Sharapova 6-3* Makarova      F  \n",
              "1  Williams 3-6 2-1* Azarenka      F  \n",
              "2     Williams *0-2 Sharapova      F  \n",
              "3        Robson 1-4* Erakovic      F  \n",
              "4   Williams 2-6 5-1* Lisicki      F  "
            ]
          },
          "execution_count": 179,
          "metadata": {},
          "output_type": "execute_result"
        }
      ],
      "source": [
        "# read in games commentaries\n",
        "data = open(commentary_data_path, 'r')\n",
        "text_commentries = json.load(data)\n",
        "pd_text_commentaries = pd.DataFrame(text_commentries)\n",
        "pd_text_commentaries.head()"
      ]
    },
    {
      "cell_type": "code",
      "execution_count": 207,
      "metadata": {
        "colab": {
          "base_uri": "https://localhost:8080/"
        },
        "id": "ldZ0iB84GvQl",
        "outputId": "abb85e09-2419-40b3-f8b2-44bb3cd39023"
      },
      "outputs": [
        {
          "data": {
            "text/plain": [
              "<spacy.pipeline.sentencizer.Sentencizer at 0x78d958d54c40>"
            ]
          },
          "execution_count": 207,
          "metadata": {},
          "output_type": "execute_result"
        }
      ],
      "source": [
        "# load nlp package spacy for sentenizer function\n",
        "from spacy.lang.en import English\n",
        "from spacy.scorer import Scorer\n",
        "\n",
        "nlp = spacy.load(\"en_core_web_sm\")\n",
        "nlp.add_pipe(\"sentencizer\")"
      ]
    },
    {
      "cell_type": "code",
      "execution_count": 181,
      "metadata": {
        "id": "AnyuDOcdI_FS"
      },
      "outputs": [],
      "source": [
        "# save sentenized commentaries\n",
        "with open('sent_train.txt', 'w') as f:\n",
        "    for i in pd_text_commentaries['commentary']:\n",
        "        doc = nlp(i)\n",
        "        for sent in doc.sents:\n",
        "            f.write(sent.text.lower() + '\\n')"
      ]
    },
    {
      "cell_type": "code",
      "execution_count": 182,
      "metadata": {
        "colab": {
          "base_uri": "https://localhost:8080/"
        },
        "id": "n3fZqbv3AnG_",
        "outputId": "9dd22d72-cd93-4549-c2ed-cce80913f1ec"
      },
      "outputs": [
        {
          "name": "stdout",
          "output_type": "stream",
          "text": [
            "=== 1/5 Counting and sorting n-grams ===\n",
            "Reading /content/sent_train.txt\n",
            "----5---10---15---20---25---30---35---40---45---50---55---60---65---70---75---80---85---90---95--100\n",
            "****************************************************************************************************\n",
            "Unigram tokens 175716 types 7775\n",
            "=== 2/5 Calculating and sorting adjusted counts ===\n",
            "Chain sizes: 1:93300 2:1062191296 3:1991608704 4:3186573824 5:4647087104\n",
            "Statistics:\n",
            "1 7775 D1=0.643092 D2=1.00824 D3+=1.30707\n",
            "2 53870 D1=0.754407 D2=1.10534 D3+=1.43692\n",
            "3 109164 D1=0.846708 D2=1.19023 D3+=1.39132\n",
            "4 137092 D1=0.915332 D2=1.28837 D3+=1.6413\n",
            "5 144053 D1=0.946495 D2=1.37505 D3+=1.55333\n",
            "Memory estimate for binary LM:\n",
            "type       kB\n",
            "probing  9763 assuming -p 1.5\n",
            "probing 11552 assuming -r models -p 1.5\n",
            "trie     4393 without quantization\n",
            "trie     2273 assuming -q 8 -b 8 quantization \n",
            "trie     4007 assuming -a 22 array pointer compression\n",
            "trie     1888 assuming -a 22 -q 8 -b 8 array pointer compression and quantization\n",
            "=== 3/5 Calculating and sorting initial probabilities ===\n",
            "Chain sizes: 1:93300 2:861920 3:2183280 4:3290208 5:4033484\n",
            "----5---10---15---20---25---30---35---40---45---50---55---60---65---70---75---80---85---90---95--100\n",
            "####################################################################################################\n",
            "=== 4/5 Calculating and writing order-interpolated probabilities ===\n",
            "Chain sizes: 1:93300 2:861920 3:2183280 4:3290208 5:4033484\n",
            "----5---10---15---20---25---30---35---40---45---50---55---60---65---70---75---80---85---90---95--100\n",
            "####################################################################################################\n",
            "=== 5/5 Writing ARPA model ===\n",
            "----5---10---15---20---25---30---35---40---45---50---55---60---65---70---75---80---85---90---95--100\n",
            "****************************************************************************************************\n",
            "Name:lmplz\tVmPeak:10804348 kB\tVmRSS:6632 kB\tRSSMax:1899460 kB\tuser:0.575678\tsys:1.85764\tCPU:2.43336\treal:2.3385\n",
            "Reading train.arpa\n",
            "----5---10---15---20---25---30---35---40---45---50---55---60---65---70---75---80---85---90---95--100\n",
            "****************************************************************************************************\n",
            "SUCCESS\n"
          ]
        }
      ],
      "source": [
        "# transform data into kenlm required format\n",
        "! kenlm/build/bin/lmplz -o 5 < \"sent_train.txt\" > \"train.arpa\"\n",
        "! kenlm/build/bin/build_binary train.arpa train.binary"
      ]
    },
    {
      "cell_type": "code",
      "execution_count": 183,
      "metadata": {
        "colab": {
          "base_uri": "https://localhost:8080/"
        },
        "id": "o8IKo28D_V79",
        "outputId": "bb0f3302-78dc-4b85-9a6f-c27d84898b3b"
      },
      "outputs": [
        {
          "name": "stdout",
          "output_type": "stream",
          "text": [
            "-10.348812103271484\n",
            "-5.038731575012207\n"
          ]
        }
      ],
      "source": [
        "# apply kenlm model on our commentaries data\n",
        "model = kenlm.Model('train.binary')\n",
        "print(model.score('this is a sentence.', bos = True, eos = True))\n",
        "print(model.score('game', bos = True, eos = True))"
      ]
    },
    {
      "cell_type": "markdown",
      "metadata": {
        "id": "2OiCOQC8WbAl"
      },
      "source": [
        "**The scores represent the log likelihood (negative) of the given text according to the language model.**\n",
        "\n",
        "*Higher (less negative) scores indicate more probable sentences according to the language model, whereas lower (more negative) scores indicate less probable sentences.*\n",
        "\n",
        "\n",
        "---\n",
        "\n"
      ]
    },
    {
      "cell_type": "markdown",
      "metadata": {
        "id": "4KffxRcUZ87K"
      },
      "source": [
        "# **Step2: GAME LANGUAGE MODEL**"
      ]
    },
    {
      "cell_type": "code",
      "execution_count": 184,
      "metadata": {
        "id": "9td0CQ4XA2Ez"
      },
      "outputs": [],
      "source": [
        "# calculate perplexity\n",
        "def perplexity_score(query):\n",
        "  return model.perplexity(query)"
      ]
    },
    {
      "cell_type": "code",
      "execution_count": 185,
      "metadata": {
        "colab": {
          "base_uri": "https://localhost:8080/"
        },
        "id": "4aU69mLqKrLT",
        "outputId": "c3066189-a22a-4a99-8745-36d91be87181"
      },
      "outputs": [
        {
          "name": "stdout",
          "output_type": "stream",
          "text": [
            "Low perplexity questions - \n",
            "What about your serve, Rafa?: 6007.399629655489\n",
            "The tiebreak, was that the key to the match?: 502.87260511339133 \n",
            "\n",
            "High perplexity questions -  \n",
            "Who designed your clothes today? : 17948.953341974695\n",
            "Do you normally watch horror films to relax?: 12527.278528622757\n"
          ]
        }
      ],
      "source": [
        "print(f\"Low perplexity questions - \\nWhat about your serve, Rafa?: {perplexity_score('What about your serve, Rafa?')}\")\n",
        "print(f\"The tiebreak, was that the key to the match?: {perplexity_score('The tiebreak, was that the key to the match?')} \\n\")\n",
        "print(f\"High perplexity questions -  \\nWho designed your clothes today? : {perplexity_score('Who designed your clothes today?')}\")\n",
        "print(f\"Do you normally watch horror films to relax?: {perplexity_score('Do you normally watch horror films to relax?')}\")"
      ]
    },
    {
      "cell_type": "markdown",
      "metadata": {
        "id": "_RDcGpcvas5V"
      },
      "source": [
        "\n",
        "\n",
        "---\n",
        "\n"
      ]
    },
    {
      "cell_type": "markdown",
      "metadata": {
        "id": "de2I2iPdac_D"
      },
      "source": [
        "# **Step3: EXPERIMENTS**\n",
        "\n",
        "## 1. Main Result -- Male vs. Female"
      ]
    },
    {
      "cell_type": "code",
      "execution_count": 186,
      "metadata": {
        "id": "GjMhfONKMrLO"
      },
      "outputs": [],
      "source": [
        "# construct the interview questions into a dataframe.\n",
        "# Each row stands for one question of one player.\n",
        "transcripts_data_path = os.path.join(GOOGLE_DRIVE_PATH, 'transcripts_matchinfo.json')\n",
        "t_data = open(transcripts_data_path, 'r')\n",
        "transcripts = json.load(t_data)\n",
        "transcript_df = pd.DataFrame(transcripts).T"
      ]
    },
    {
      "cell_type": "code",
      "execution_count": 187,
      "metadata": {
        "colab": {
          "base_uri": "https://localhost:8080/",
          "height": 560
        },
        "id": "WOF0FFdANgau",
        "outputId": "7a10c885-dece-48f7-9464-f3d4982aa628"
      },
      "outputs": [
        {
          "data": {
            "application/vnd.google.colaboratory.module+javascript": "\n      import \"https://ssl.gstatic.com/colaboratory/data_table/881c4a0d49046431/data_table.js\";\n\n      const table = window.createDataTable({\n        data: [[\"0\",\n\"That last set seemed like a faultless performance. Is that the way you saw it?\",\n\"Yeah, I served extremely well, and then the two opportunities I got I wasn't expecting to have loads of opportunities with the way he had been serving this week and the way the courts were playing. So, you know, thankfully when the chances came, I managed to come up with, you know, some kind of instinctive shots and, you know, guess the right way on a couple of shots and managed to get the breaks. You know, I felt like once I got into the rallies I was doing really well, but it was obviously tough to do that some of the times. He served extremely high percentage of first serves and was serving big. But it was a good performance, yeah.\",\n\"2015-06-21\",\n\"M\",\n\"Andy Murray\",\n{\n            'v': 3,\n            'f': \"3\",\n        },\n\"Kevin Anderson\",\n{\n            'v': 1,\n            'f': \"1\",\n        },\n\"The Final\",\n\"AEGON CHAMPIONSHIPS\",\n\"ATP500\"],\n [\"0\",\n\"Did playing the semifinal, finishing that off first, help you going into the second match in the afternoon?\",\n\"No, I don't think so. You know, it was an unfortunate situation yesterday what happened. But, no, I mean, maybe when I was like 21 or something, you know, I could warm up and cool down, warm up and, you know, play, do that three, four times a day and feel okay, whereas now it's not quite as easy as it used to be, unfortunately. I spent a decent amount of time with my physio between the matches. Yeah, he did a really good job. I want to thank him for it, as well.\",\n\"2015-06-21\",\n\"M\",\n\"Andy Murray\",\n{\n            'v': 3,\n            'f': \"3\",\n        },\n\"Kevin Anderson\",\n{\n            'v': 1,\n            'f': \"1\",\n        },\n\"The Final\",\n\"AEGON CHAMPIONSHIPS\",\n\"ATP500\"],\n [\"0\",\n\"Is that difficult mentally as much as physically to switch on and switch off and switch back on again?\",\n\"Yeah, well, there is a lot of things that  you have two hours from when you come off the court. You want to cool down, you know, digest what's just happened a little bit. And then, you know, you basically are coming up with two game plans on one day to play different, very different opponents that are, you know, that are playing very well. Like I say, you need to warm up and cool down and it's, you know, it's been a long couple of days. Yeah, it's not that easy coming up with good strategies for backtoback matches against different players in such a short space of time.\",\n\"2015-06-21\",\n\"M\",\n\"Andy Murray\",\n{\n            'v': 3,\n            'f': \"3\",\n        },\n\"Kevin Anderson\",\n{\n            'v': 1,\n            'f': \"1\",\n        },\n\"The Final\",\n\"AEGON CHAMPIONSHIPS\",\n\"ATP500\"],\n [\"0\",\n\"You said on TV I think you said you felt better than when you won Wimbledon in 2013. Just wondered if you could sort of quantify where you think the improvements are.\",\n\"Well, I think you just have to improve; otherwise I wouldn't still be in the same position. You know, I was ranked, I don't know, 3, 4 in the world around that time and I'm still there just now. You know, sport and life and everything moves on. If you don't continue to improve and get better, there is going to be people that will take your spot. So I feel like I have improved. Physically I'm definitely in a better place than I was then. Obviously I was having problems with my back around that time. Not so much on the grass but on the other surfaces. And, yeah, I feel like I'm using my variety very well just now, something that maybe I wasn't the last couple of years. That's been good for me. Yeah, more experience, more matches. So, yeah. There are a few things I'm doing a little bit better.\",\n\"2015-06-21\",\n\"M\",\n\"Andy Murray\",\n{\n            'v': 3,\n            'f': \"3\",\n        },\n\"Kevin Anderson\",\n{\n            'v': 1,\n            'f': \"1\",\n        },\n\"The Final\",\n\"AEGON CHAMPIONSHIPS\",\n\"ATP500\"],\n [\"0\",\n\"The last time that you won this tournament you went on to win Wimbledon.\",\n\"Yeah, but that means nothing, really. You know, it's great preparation obviously, but, you know, I think it has only happened six times where someone has won Queen's and gone on to win. There are no guarantees that winning here, you know, gives you a Wimbledon title. I need to go out there and earn it. I need to train well the next five, six days, prepare as well as I can. It's great preparation. It's a great start to my preparation on the grass. It gives me that little bit of confidence going in there. Yeah, it's been a really good start, but, you know, it's a long way to go before Wimbledon even starts, and then all sorts of things can happen during slams.\",\n\"2015-06-21\",\n\"M\",\n\"Andy Murray\",\n{\n            'v': 3,\n            'f': \"3\",\n        },\n\"Kevin Anderson\",\n{\n            'v': 1,\n            'f': \"1\",\n        },\n\"The Final\",\n\"AEGON CHAMPIONSHIPS\",\n\"ATP500\"]],\n        columns: [[\"string\", \"index\"], [\"string\", \"question\"], [\"string\", \"answer\"], [\"string\", \"date\"], [\"string\", \"gender\"], [\"string\", \"player\"], [\"number\", \"ranking\"], [\"string\", \"opponent\"], [\"number\", \"result\"], [\"string\", \"stage\"], [\"string\", \"tournament\"], [\"string\", \"tournament_type\"]],\n        columnOptions: [{\"width\": \"1px\", \"className\": \"index_column\"}],\n        rowsPerPage: 25,\n        helpUrl: \"https://colab.research.google.com/notebooks/data_table.ipynb\",\n        suppressOutputScrolling: true,\n        minimumWidth: undefined,\n      });\n\n      function appendQuickchartButton(parentElement) {\n        let quickchartButtonContainerElement = document.createElement('div');\n        quickchartButtonContainerElement.innerHTML = `\n<div id=\"df-aa37ff1a-df10-4358-b3f7-36511318636e\">\n  <button class=\"colab-df-quickchart\" onclick=\"quickchart('df-aa37ff1a-df10-4358-b3f7-36511318636e')\"\n            title=\"Suggest charts\"\n            style=\"display:none;\">\n    \n<svg xmlns=\"http://www.w3.org/2000/svg\" height=\"24px\"viewBox=\"0 0 24 24\"\n     width=\"24px\">\n    <g>\n        <path d=\"M19 3H5c-1.1 0-2 .9-2 2v14c0 1.1.9 2 2 2h14c1.1 0 2-.9 2-2V5c0-1.1-.9-2-2-2zM9 17H7v-7h2v7zm4 0h-2V7h2v10zm4 0h-2v-4h2v4z\"/>\n    </g>\n</svg>\n  </button>\n  \n<style>\n  .colab-df-quickchart {\n      --bg-color: #E8F0FE;\n      --fill-color: #1967D2;\n      --hover-bg-color: #E2EBFA;\n      --hover-fill-color: #174EA6;\n      --disabled-fill-color: #AAA;\n      --disabled-bg-color: #DDD;\n  }\n\n  [theme=dark] .colab-df-quickchart {\n      --bg-color: #3B4455;\n      --fill-color: #D2E3FC;\n      --hover-bg-color: #434B5C;\n      --hover-fill-color: #FFFFFF;\n      --disabled-bg-color: #3B4455;\n      --disabled-fill-color: #666;\n  }\n\n  .colab-df-quickchart {\n    background-color: var(--bg-color);\n    border: none;\n    border-radius: 50%;\n    cursor: pointer;\n    display: none;\n    fill: var(--fill-color);\n    height: 32px;\n    padding: 0;\n    width: 32px;\n  }\n\n  .colab-df-quickchart:hover {\n    background-color: var(--hover-bg-color);\n    box-shadow: 0 1px 2px rgba(60, 64, 67, 0.3), 0 1px 3px 1px rgba(60, 64, 67, 0.15);\n    fill: var(--button-hover-fill-color);\n  }\n\n  .colab-df-quickchart-complete:disabled,\n  .colab-df-quickchart-complete:disabled:hover {\n    background-color: var(--disabled-bg-color);\n    fill: var(--disabled-fill-color);\n    box-shadow: none;\n  }\n\n  .colab-df-spinner {\n    border: 2px solid var(--fill-color);\n    border-color: transparent;\n    border-bottom-color: var(--fill-color);\n    animation:\n      spin 1s steps(1) infinite;\n  }\n\n  @keyframes spin {\n    0% {\n      border-color: transparent;\n      border-bottom-color: var(--fill-color);\n      border-left-color: var(--fill-color);\n    }\n    20% {\n      border-color: transparent;\n      border-left-color: var(--fill-color);\n      border-top-color: var(--fill-color);\n    }\n    30% {\n      border-color: transparent;\n      border-left-color: var(--fill-color);\n      border-top-color: var(--fill-color);\n      border-right-color: var(--fill-color);\n    }\n    40% {\n      border-color: transparent;\n      border-right-color: var(--fill-color);\n      border-top-color: var(--fill-color);\n    }\n    60% {\n      border-color: transparent;\n      border-right-color: var(--fill-color);\n    }\n    80% {\n      border-color: transparent;\n      border-right-color: var(--fill-color);\n      border-bottom-color: var(--fill-color);\n    }\n    90% {\n      border-color: transparent;\n      border-bottom-color: var(--fill-color);\n    }\n  }\n</style>\n\n  <script>\n    async function quickchart(key) {\n      const quickchartButtonEl =\n        document.querySelector('#' + key + ' button');\n      quickchartButtonEl.disabled = true;  // To prevent multiple clicks.\n      quickchartButtonEl.classList.add('colab-df-spinner');\n      try {\n        const charts = await google.colab.kernel.invokeFunction(\n            'suggestCharts', [key], {});\n      } catch (error) {\n        console.error('Error during call to suggestCharts:', error);\n      }\n      quickchartButtonEl.classList.remove('colab-df-spinner');\n      quickchartButtonEl.classList.add('colab-df-quickchart-complete');\n    }\n    (() => {\n      let quickchartButtonEl =\n        document.querySelector('#df-aa37ff1a-df10-4358-b3f7-36511318636e button');\n      quickchartButtonEl.style.display =\n        google.colab.kernel.accessAllowed ? 'block' : 'none';\n    })();\n  </script>\n</div>`;\n        parentElement.appendChild(quickchartButtonContainerElement);\n      }\n\n      appendQuickchartButton(table);\n    ",
            "text/html": [
              "\n",
              "  <div id=\"df-97286f54-45f8-42c2-9af4-7eecfbe89169\" class=\"colab-df-container\">\n",
              "    <div>\n",
              "<style scoped>\n",
              "    .dataframe tbody tr th:only-of-type {\n",
              "        vertical-align: middle;\n",
              "    }\n",
              "\n",
              "    .dataframe tbody tr th {\n",
              "        vertical-align: top;\n",
              "    }\n",
              "\n",
              "    .dataframe thead th {\n",
              "        text-align: right;\n",
              "    }\n",
              "</style>\n",
              "<table border=\"1\" class=\"dataframe\">\n",
              "  <thead>\n",
              "    <tr style=\"text-align: right;\">\n",
              "      <th></th>\n",
              "      <th>question</th>\n",
              "      <th>answer</th>\n",
              "      <th>date</th>\n",
              "      <th>gender</th>\n",
              "      <th>player</th>\n",
              "      <th>ranking</th>\n",
              "      <th>opponent</th>\n",
              "      <th>result</th>\n",
              "      <th>stage</th>\n",
              "      <th>tournament</th>\n",
              "      <th>tournament_type</th>\n",
              "    </tr>\n",
              "  </thead>\n",
              "  <tbody>\n",
              "    <tr>\n",
              "      <th>0</th>\n",
              "      <td>That last set seemed like a faultless performa...</td>\n",
              "      <td>Yeah, I served extremely well, and then the tw...</td>\n",
              "      <td>2015-06-21</td>\n",
              "      <td>M</td>\n",
              "      <td>Andy Murray</td>\n",
              "      <td>3</td>\n",
              "      <td>Kevin Anderson</td>\n",
              "      <td>1</td>\n",
              "      <td>The Final</td>\n",
              "      <td>AEGON CHAMPIONSHIPS</td>\n",
              "      <td>ATP500</td>\n",
              "    </tr>\n",
              "    <tr>\n",
              "      <th>0</th>\n",
              "      <td>Did playing the semifinal, finishing that off ...</td>\n",
              "      <td>No, I don't think so. You know, it was an unfo...</td>\n",
              "      <td>2015-06-21</td>\n",
              "      <td>M</td>\n",
              "      <td>Andy Murray</td>\n",
              "      <td>3</td>\n",
              "      <td>Kevin Anderson</td>\n",
              "      <td>1</td>\n",
              "      <td>The Final</td>\n",
              "      <td>AEGON CHAMPIONSHIPS</td>\n",
              "      <td>ATP500</td>\n",
              "    </tr>\n",
              "    <tr>\n",
              "      <th>0</th>\n",
              "      <td>Is that difficult mentally as much as physical...</td>\n",
              "      <td>Yeah, well, there is a lot of things that  you...</td>\n",
              "      <td>2015-06-21</td>\n",
              "      <td>M</td>\n",
              "      <td>Andy Murray</td>\n",
              "      <td>3</td>\n",
              "      <td>Kevin Anderson</td>\n",
              "      <td>1</td>\n",
              "      <td>The Final</td>\n",
              "      <td>AEGON CHAMPIONSHIPS</td>\n",
              "      <td>ATP500</td>\n",
              "    </tr>\n",
              "    <tr>\n",
              "      <th>0</th>\n",
              "      <td>You said on TV I think you said you felt bette...</td>\n",
              "      <td>Well, I think you just have to improve; otherw...</td>\n",
              "      <td>2015-06-21</td>\n",
              "      <td>M</td>\n",
              "      <td>Andy Murray</td>\n",
              "      <td>3</td>\n",
              "      <td>Kevin Anderson</td>\n",
              "      <td>1</td>\n",
              "      <td>The Final</td>\n",
              "      <td>AEGON CHAMPIONSHIPS</td>\n",
              "      <td>ATP500</td>\n",
              "    </tr>\n",
              "    <tr>\n",
              "      <th>0</th>\n",
              "      <td>The last time that you won this tournament you...</td>\n",
              "      <td>Yeah, but that means nothing, really. You know...</td>\n",
              "      <td>2015-06-21</td>\n",
              "      <td>M</td>\n",
              "      <td>Andy Murray</td>\n",
              "      <td>3</td>\n",
              "      <td>Kevin Anderson</td>\n",
              "      <td>1</td>\n",
              "      <td>The Final</td>\n",
              "      <td>AEGON CHAMPIONSHIPS</td>\n",
              "      <td>ATP500</td>\n",
              "    </tr>\n",
              "  </tbody>\n",
              "</table>\n",
              "</div>\n",
              "    <div class=\"colab-df-buttons\">\n",
              "\n",
              "  <div class=\"colab-df-container\">\n",
              "    <button class=\"colab-df-convert\" onclick=\"convertToInteractive('df-97286f54-45f8-42c2-9af4-7eecfbe89169')\"\n",
              "            title=\"Convert this dataframe to an interactive table.\"\n",
              "            style=\"display:none;\">\n",
              "\n",
              "  <svg xmlns=\"http://www.w3.org/2000/svg\" height=\"24px\" viewBox=\"0 -960 960 960\">\n",
              "    <path d=\"M120-120v-720h720v720H120Zm60-500h600v-160H180v160Zm220 220h160v-160H400v160Zm0 220h160v-160H400v160ZM180-400h160v-160H180v160Zm440 0h160v-160H620v160ZM180-180h160v-160H180v160Zm440 0h160v-160H620v160Z\"/>\n",
              "  </svg>\n",
              "    </button>\n",
              "\n",
              "  <style>\n",
              "    .colab-df-container {\n",
              "      display:flex;\n",
              "      gap: 12px;\n",
              "    }\n",
              "\n",
              "    .colab-df-convert {\n",
              "      background-color: #E8F0FE;\n",
              "      border: none;\n",
              "      border-radius: 50%;\n",
              "      cursor: pointer;\n",
              "      display: none;\n",
              "      fill: #1967D2;\n",
              "      height: 32px;\n",
              "      padding: 0 0 0 0;\n",
              "      width: 32px;\n",
              "    }\n",
              "\n",
              "    .colab-df-convert:hover {\n",
              "      background-color: #E2EBFA;\n",
              "      box-shadow: 0px 1px 2px rgba(60, 64, 67, 0.3), 0px 1px 3px 1px rgba(60, 64, 67, 0.15);\n",
              "      fill: #174EA6;\n",
              "    }\n",
              "\n",
              "    .colab-df-buttons div {\n",
              "      margin-bottom: 4px;\n",
              "    }\n",
              "\n",
              "    [theme=dark] .colab-df-convert {\n",
              "      background-color: #3B4455;\n",
              "      fill: #D2E3FC;\n",
              "    }\n",
              "\n",
              "    [theme=dark] .colab-df-convert:hover {\n",
              "      background-color: #434B5C;\n",
              "      box-shadow: 0px 1px 3px 1px rgba(0, 0, 0, 0.15);\n",
              "      filter: drop-shadow(0px 1px 2px rgba(0, 0, 0, 0.3));\n",
              "      fill: #FFFFFF;\n",
              "    }\n",
              "  </style>\n",
              "\n",
              "    <script>\n",
              "      const buttonEl =\n",
              "        document.querySelector('#df-97286f54-45f8-42c2-9af4-7eecfbe89169 button.colab-df-convert');\n",
              "      buttonEl.style.display =\n",
              "        google.colab.kernel.accessAllowed ? 'block' : 'none';\n",
              "\n",
              "      async function convertToInteractive(key) {\n",
              "        const element = document.querySelector('#df-97286f54-45f8-42c2-9af4-7eecfbe89169');\n",
              "        const dataTable =\n",
              "          await google.colab.kernel.invokeFunction('convertToInteractive',\n",
              "                                                    [key], {});\n",
              "        if (!dataTable) return;\n",
              "\n",
              "        const docLinkHtml = 'Like what you see? Visit the ' +\n",
              "          '<a target=\"_blank\" href=https://colab.research.google.com/notebooks/data_table.ipynb>data table notebook</a>'\n",
              "          + ' to learn more about interactive tables.';\n",
              "        element.innerHTML = '';\n",
              "        dataTable['output_type'] = 'display_data';\n",
              "        await google.colab.output.renderOutput(dataTable, element);\n",
              "        const docLink = document.createElement('div');\n",
              "        docLink.innerHTML = docLinkHtml;\n",
              "        element.appendChild(docLink);\n",
              "      }\n",
              "    </script>\n",
              "  </div>\n",
              "\n",
              "\n",
              "<div id=\"df-c8af0d28-22b8-425d-b1d0-9eaf7e82422d\">\n",
              "  <button class=\"colab-df-quickchart\" onclick=\"quickchart('df-c8af0d28-22b8-425d-b1d0-9eaf7e82422d')\"\n",
              "            title=\"Suggest charts\"\n",
              "            style=\"display:none;\">\n",
              "\n",
              "<svg xmlns=\"http://www.w3.org/2000/svg\" height=\"24px\"viewBox=\"0 0 24 24\"\n",
              "     width=\"24px\">\n",
              "    <g>\n",
              "        <path d=\"M19 3H5c-1.1 0-2 .9-2 2v14c0 1.1.9 2 2 2h14c1.1 0 2-.9 2-2V5c0-1.1-.9-2-2-2zM9 17H7v-7h2v7zm4 0h-2V7h2v10zm4 0h-2v-4h2v4z\"/>\n",
              "    </g>\n",
              "</svg>\n",
              "  </button>\n",
              "\n",
              "<style>\n",
              "  .colab-df-quickchart {\n",
              "      --bg-color: #E8F0FE;\n",
              "      --fill-color: #1967D2;\n",
              "      --hover-bg-color: #E2EBFA;\n",
              "      --hover-fill-color: #174EA6;\n",
              "      --disabled-fill-color: #AAA;\n",
              "      --disabled-bg-color: #DDD;\n",
              "  }\n",
              "\n",
              "  [theme=dark] .colab-df-quickchart {\n",
              "      --bg-color: #3B4455;\n",
              "      --fill-color: #D2E3FC;\n",
              "      --hover-bg-color: #434B5C;\n",
              "      --hover-fill-color: #FFFFFF;\n",
              "      --disabled-bg-color: #3B4455;\n",
              "      --disabled-fill-color: #666;\n",
              "  }\n",
              "\n",
              "  .colab-df-quickchart {\n",
              "    background-color: var(--bg-color);\n",
              "    border: none;\n",
              "    border-radius: 50%;\n",
              "    cursor: pointer;\n",
              "    display: none;\n",
              "    fill: var(--fill-color);\n",
              "    height: 32px;\n",
              "    padding: 0;\n",
              "    width: 32px;\n",
              "  }\n",
              "\n",
              "  .colab-df-quickchart:hover {\n",
              "    background-color: var(--hover-bg-color);\n",
              "    box-shadow: 0 1px 2px rgba(60, 64, 67, 0.3), 0 1px 3px 1px rgba(60, 64, 67, 0.15);\n",
              "    fill: var(--button-hover-fill-color);\n",
              "  }\n",
              "\n",
              "  .colab-df-quickchart-complete:disabled,\n",
              "  .colab-df-quickchart-complete:disabled:hover {\n",
              "    background-color: var(--disabled-bg-color);\n",
              "    fill: var(--disabled-fill-color);\n",
              "    box-shadow: none;\n",
              "  }\n",
              "\n",
              "  .colab-df-spinner {\n",
              "    border: 2px solid var(--fill-color);\n",
              "    border-color: transparent;\n",
              "    border-bottom-color: var(--fill-color);\n",
              "    animation:\n",
              "      spin 1s steps(1) infinite;\n",
              "  }\n",
              "\n",
              "  @keyframes spin {\n",
              "    0% {\n",
              "      border-color: transparent;\n",
              "      border-bottom-color: var(--fill-color);\n",
              "      border-left-color: var(--fill-color);\n",
              "    }\n",
              "    20% {\n",
              "      border-color: transparent;\n",
              "      border-left-color: var(--fill-color);\n",
              "      border-top-color: var(--fill-color);\n",
              "    }\n",
              "    30% {\n",
              "      border-color: transparent;\n",
              "      border-left-color: var(--fill-color);\n",
              "      border-top-color: var(--fill-color);\n",
              "      border-right-color: var(--fill-color);\n",
              "    }\n",
              "    40% {\n",
              "      border-color: transparent;\n",
              "      border-right-color: var(--fill-color);\n",
              "      border-top-color: var(--fill-color);\n",
              "    }\n",
              "    60% {\n",
              "      border-color: transparent;\n",
              "      border-right-color: var(--fill-color);\n",
              "    }\n",
              "    80% {\n",
              "      border-color: transparent;\n",
              "      border-right-color: var(--fill-color);\n",
              "      border-bottom-color: var(--fill-color);\n",
              "    }\n",
              "    90% {\n",
              "      border-color: transparent;\n",
              "      border-bottom-color: var(--fill-color);\n",
              "    }\n",
              "  }\n",
              "</style>\n",
              "\n",
              "  <script>\n",
              "    async function quickchart(key) {\n",
              "      const quickchartButtonEl =\n",
              "        document.querySelector('#' + key + ' button');\n",
              "      quickchartButtonEl.disabled = true;  // To prevent multiple clicks.\n",
              "      quickchartButtonEl.classList.add('colab-df-spinner');\n",
              "      try {\n",
              "        const charts = await google.colab.kernel.invokeFunction(\n",
              "            'suggestCharts', [key], {});\n",
              "      } catch (error) {\n",
              "        console.error('Error during call to suggestCharts:', error);\n",
              "      }\n",
              "      quickchartButtonEl.classList.remove('colab-df-spinner');\n",
              "      quickchartButtonEl.classList.add('colab-df-quickchart-complete');\n",
              "    }\n",
              "    (() => {\n",
              "      let quickchartButtonEl =\n",
              "        document.querySelector('#df-c8af0d28-22b8-425d-b1d0-9eaf7e82422d button');\n",
              "      quickchartButtonEl.style.display =\n",
              "        google.colab.kernel.accessAllowed ? 'block' : 'none';\n",
              "    })();\n",
              "  </script>\n",
              "</div>\n",
              "    </div>\n",
              "  </div>\n"
            ],
            "text/plain": [
              "                                            question  \\\n",
              "0  That last set seemed like a faultless performa...   \n",
              "0  Did playing the semifinal, finishing that off ...   \n",
              "0  Is that difficult mentally as much as physical...   \n",
              "0  You said on TV I think you said you felt bette...   \n",
              "0  The last time that you won this tournament you...   \n",
              "\n",
              "                                              answer        date gender  \\\n",
              "0  Yeah, I served extremely well, and then the tw...  2015-06-21      M   \n",
              "0  No, I don't think so. You know, it was an unfo...  2015-06-21      M   \n",
              "0  Yeah, well, there is a lot of things that  you...  2015-06-21      M   \n",
              "0  Well, I think you just have to improve; otherw...  2015-06-21      M   \n",
              "0  Yeah, but that means nothing, really. You know...  2015-06-21      M   \n",
              "\n",
              "        player ranking        opponent result      stage           tournament  \\\n",
              "0  Andy Murray       3  Kevin Anderson      1  The Final  AEGON CHAMPIONSHIPS   \n",
              "0  Andy Murray       3  Kevin Anderson      1  The Final  AEGON CHAMPIONSHIPS   \n",
              "0  Andy Murray       3  Kevin Anderson      1  The Final  AEGON CHAMPIONSHIPS   \n",
              "0  Andy Murray       3  Kevin Anderson      1  The Final  AEGON CHAMPIONSHIPS   \n",
              "0  Andy Murray       3  Kevin Anderson      1  The Final  AEGON CHAMPIONSHIPS   \n",
              "\n",
              "  tournament_type  \n",
              "0          ATP500  \n",
              "0          ATP500  \n",
              "0          ATP500  \n",
              "0          ATP500  \n",
              "0          ATP500  "
            ]
          },
          "execution_count": 187,
          "metadata": {},
          "output_type": "execute_result"
        }
      ],
      "source": [
        "transcript_df['question_number'] = transcript_df['QandA'].apply(lambda x: len(x))\n",
        "transcript_df_expanded = transcript_df.explode('QandA')\n",
        "transcript_df_expanded[['question', 'answer']] = pd.DataFrame(transcript_df_expanded['QandA'].tolist(), index=transcript_df_expanded.index)\n",
        "df = transcript_df_expanded[['question', 'answer', 'date', 'gender', 'player', 'ranking', 'opponent', 'result', 'stage', 'tournament', 'tournament_type']]\n",
        "df.head()"
      ]
    },
    {
      "cell_type": "code",
      "execution_count": 188,
      "metadata": {
        "colab": {
          "base_uri": "https://localhost:8080/",
          "height": 713
        },
        "id": "h9Oh4Cf-NlSE",
        "outputId": "475ced79-69e6-4627-a49a-b639435edc83"
      },
      "outputs": [
        {
          "name": "stderr",
          "output_type": "stream",
          "text": [
            "<ipython-input-188-f69d6ed7866c>:1: SettingWithCopyWarning: \n",
            "A value is trying to be set on a copy of a slice from a DataFrame.\n",
            "Try using .loc[row_indexer,col_indexer] = value instead\n",
            "\n",
            "See the caveats in the documentation: https://pandas.pydata.org/pandas-docs/stable/user_guide/indexing.html#returning-a-view-versus-a-copy\n",
            "  df['perplexity'] = df['question'].apply(perplexity_score)\n"
          ]
        },
        {
          "data": {
            "application/vnd.google.colaboratory.module+javascript": "\n      import \"https://ssl.gstatic.com/colaboratory/data_table/881c4a0d49046431/data_table.js\";\n\n      const table = window.createDataTable({\n        data: [[\"0\",\n\"That last set seemed like a faultless performance. Is that the way you saw it?\",\n\"Yeah, I served extremely well, and then the two opportunities I got I wasn't expecting to have loads of opportunities with the way he had been serving this week and the way the courts were playing. So, you know, thankfully when the chances came, I managed to come up with, you know, some kind of instinctive shots and, you know, guess the right way on a couple of shots and managed to get the breaks. You know, I felt like once I got into the rallies I was doing really well, but it was obviously tough to do that some of the times. He served extremely high percentage of first serves and was serving big. But it was a good performance, yeah.\",\n\"2015-06-21\",\n\"M\",\n\"Andy Murray\",\n{\n            'v': 3,\n            'f': \"3\",\n        },\n\"Kevin Anderson\",\n{\n            'v': 1,\n            'f': \"1\",\n        },\n\"The Final\",\n\"AEGON CHAMPIONSHIPS\",\n\"ATP500\",\n{\n            'v': 2265.549668383904,\n            'f': \"2265.549668383904\",\n        }],\n [\"0\",\n\"Did playing the semifinal, finishing that off first, help you going into the second match in the afternoon?\",\n\"No, I don't think so. You know, it was an unfortunate situation yesterday what happened. But, no, I mean, maybe when I was like 21 or something, you know, I could warm up and cool down, warm up and, you know, play, do that three, four times a day and feel okay, whereas now it's not quite as easy as it used to be, unfortunately. I spent a decent amount of time with my physio between the matches. Yeah, he did a really good job. I want to thank him for it, as well.\",\n\"2015-06-21\",\n\"M\",\n\"Andy Murray\",\n{\n            'v': 3,\n            'f': \"3\",\n        },\n\"Kevin Anderson\",\n{\n            'v': 1,\n            'f': \"1\",\n        },\n\"The Final\",\n\"AEGON CHAMPIONSHIPS\",\n\"ATP500\",\n{\n            'v': 954.2329581235894,\n            'f': \"954.2329581235894\",\n        }],\n [\"0\",\n\"Is that difficult mentally as much as physically to switch on and switch off and switch back on again?\",\n\"Yeah, well, there is a lot of things that  you have two hours from when you come off the court. You want to cool down, you know, digest what's just happened a little bit. And then, you know, you basically are coming up with two game plans on one day to play different, very different opponents that are, you know, that are playing very well. Like I say, you need to warm up and cool down and it's, you know, it's been a long couple of days. Yeah, it's not that easy coming up with good strategies for backtoback matches against different players in such a short space of time.\",\n\"2015-06-21\",\n\"M\",\n\"Andy Murray\",\n{\n            'v': 3,\n            'f': \"3\",\n        },\n\"Kevin Anderson\",\n{\n            'v': 1,\n            'f': \"1\",\n        },\n\"The Final\",\n\"AEGON CHAMPIONSHIPS\",\n\"ATP500\",\n{\n            'v': 1310.2547057898835,\n            'f': \"1310.2547057898835\",\n        }],\n [\"0\",\n\"You said on TV I think you said you felt better than when you won Wimbledon in 2013. Just wondered if you could sort of quantify where you think the improvements are.\",\n\"Well, I think you just have to improve; otherwise I wouldn't still be in the same position. You know, I was ranked, I don't know, 3, 4 in the world around that time and I'm still there just now. You know, sport and life and everything moves on. If you don't continue to improve and get better, there is going to be people that will take your spot. So I feel like I have improved. Physically I'm definitely in a better place than I was then. Obviously I was having problems with my back around that time. Not so much on the grass but on the other surfaces. And, yeah, I feel like I'm using my variety very well just now, something that maybe I wasn't the last couple of years. That's been good for me. Yeah, more experience, more matches. So, yeah. There are a few things I'm doing a little bit better.\",\n\"2015-06-21\",\n\"M\",\n\"Andy Murray\",\n{\n            'v': 3,\n            'f': \"3\",\n        },\n\"Kevin Anderson\",\n{\n            'v': 1,\n            'f': \"1\",\n        },\n\"The Final\",\n\"AEGON CHAMPIONSHIPS\",\n\"ATP500\",\n{\n            'v': 3902.4554630679268,\n            'f': \"3902.4554630679268\",\n        }],\n [\"0\",\n\"The last time that you won this tournament you went on to win Wimbledon.\",\n\"Yeah, but that means nothing, really. You know, it's great preparation obviously, but, you know, I think it has only happened six times where someone has won Queen's and gone on to win. There are no guarantees that winning here, you know, gives you a Wimbledon title. I need to go out there and earn it. I need to train well the next five, six days, prepare as well as I can. It's great preparation. It's a great start to my preparation on the grass. It gives me that little bit of confidence going in there. Yeah, it's been a really good start, but, you know, it's a long way to go before Wimbledon even starts, and then all sorts of things can happen during slams.\",\n\"2015-06-21\",\n\"M\",\n\"Andy Murray\",\n{\n            'v': 3,\n            'f': \"3\",\n        },\n\"Kevin Anderson\",\n{\n            'v': 1,\n            'f': \"1\",\n        },\n\"The Final\",\n\"AEGON CHAMPIONSHIPS\",\n\"ATP500\",\n{\n            'v': 662.4207552312081,\n            'f': \"662.4207552312081\",\n        }]],\n        columns: [[\"string\", \"index\"], [\"string\", \"question\"], [\"string\", \"answer\"], [\"string\", \"date\"], [\"string\", \"gender\"], [\"string\", \"player\"], [\"number\", \"ranking\"], [\"string\", \"opponent\"], [\"number\", \"result\"], [\"string\", \"stage\"], [\"string\", \"tournament\"], [\"string\", \"tournament_type\"], [\"number\", \"perplexity\"]],\n        columnOptions: [{\"width\": \"1px\", \"className\": \"index_column\"}],\n        rowsPerPage: 25,\n        helpUrl: \"https://colab.research.google.com/notebooks/data_table.ipynb\",\n        suppressOutputScrolling: true,\n        minimumWidth: undefined,\n      });\n\n      function appendQuickchartButton(parentElement) {\n        let quickchartButtonContainerElement = document.createElement('div');\n        quickchartButtonContainerElement.innerHTML = `\n<div id=\"df-e185c7b4-4952-46b9-b970-b93027d15610\">\n  <button class=\"colab-df-quickchart\" onclick=\"quickchart('df-e185c7b4-4952-46b9-b970-b93027d15610')\"\n            title=\"Suggest charts\"\n            style=\"display:none;\">\n    \n<svg xmlns=\"http://www.w3.org/2000/svg\" height=\"24px\"viewBox=\"0 0 24 24\"\n     width=\"24px\">\n    <g>\n        <path d=\"M19 3H5c-1.1 0-2 .9-2 2v14c0 1.1.9 2 2 2h14c1.1 0 2-.9 2-2V5c0-1.1-.9-2-2-2zM9 17H7v-7h2v7zm4 0h-2V7h2v10zm4 0h-2v-4h2v4z\"/>\n    </g>\n</svg>\n  </button>\n  \n<style>\n  .colab-df-quickchart {\n      --bg-color: #E8F0FE;\n      --fill-color: #1967D2;\n      --hover-bg-color: #E2EBFA;\n      --hover-fill-color: #174EA6;\n      --disabled-fill-color: #AAA;\n      --disabled-bg-color: #DDD;\n  }\n\n  [theme=dark] .colab-df-quickchart {\n      --bg-color: #3B4455;\n      --fill-color: #D2E3FC;\n      --hover-bg-color: #434B5C;\n      --hover-fill-color: #FFFFFF;\n      --disabled-bg-color: #3B4455;\n      --disabled-fill-color: #666;\n  }\n\n  .colab-df-quickchart {\n    background-color: var(--bg-color);\n    border: none;\n    border-radius: 50%;\n    cursor: pointer;\n    display: none;\n    fill: var(--fill-color);\n    height: 32px;\n    padding: 0;\n    width: 32px;\n  }\n\n  .colab-df-quickchart:hover {\n    background-color: var(--hover-bg-color);\n    box-shadow: 0 1px 2px rgba(60, 64, 67, 0.3), 0 1px 3px 1px rgba(60, 64, 67, 0.15);\n    fill: var(--button-hover-fill-color);\n  }\n\n  .colab-df-quickchart-complete:disabled,\n  .colab-df-quickchart-complete:disabled:hover {\n    background-color: var(--disabled-bg-color);\n    fill: var(--disabled-fill-color);\n    box-shadow: none;\n  }\n\n  .colab-df-spinner {\n    border: 2px solid var(--fill-color);\n    border-color: transparent;\n    border-bottom-color: var(--fill-color);\n    animation:\n      spin 1s steps(1) infinite;\n  }\n\n  @keyframes spin {\n    0% {\n      border-color: transparent;\n      border-bottom-color: var(--fill-color);\n      border-left-color: var(--fill-color);\n    }\n    20% {\n      border-color: transparent;\n      border-left-color: var(--fill-color);\n      border-top-color: var(--fill-color);\n    }\n    30% {\n      border-color: transparent;\n      border-left-color: var(--fill-color);\n      border-top-color: var(--fill-color);\n      border-right-color: var(--fill-color);\n    }\n    40% {\n      border-color: transparent;\n      border-right-color: var(--fill-color);\n      border-top-color: var(--fill-color);\n    }\n    60% {\n      border-color: transparent;\n      border-right-color: var(--fill-color);\n    }\n    80% {\n      border-color: transparent;\n      border-right-color: var(--fill-color);\n      border-bottom-color: var(--fill-color);\n    }\n    90% {\n      border-color: transparent;\n      border-bottom-color: var(--fill-color);\n    }\n  }\n</style>\n\n  <script>\n    async function quickchart(key) {\n      const quickchartButtonEl =\n        document.querySelector('#' + key + ' button');\n      quickchartButtonEl.disabled = true;  // To prevent multiple clicks.\n      quickchartButtonEl.classList.add('colab-df-spinner');\n      try {\n        const charts = await google.colab.kernel.invokeFunction(\n            'suggestCharts', [key], {});\n      } catch (error) {\n        console.error('Error during call to suggestCharts:', error);\n      }\n      quickchartButtonEl.classList.remove('colab-df-spinner');\n      quickchartButtonEl.classList.add('colab-df-quickchart-complete');\n    }\n    (() => {\n      let quickchartButtonEl =\n        document.querySelector('#df-e185c7b4-4952-46b9-b970-b93027d15610 button');\n      quickchartButtonEl.style.display =\n        google.colab.kernel.accessAllowed ? 'block' : 'none';\n    })();\n  </script>\n</div>`;\n        parentElement.appendChild(quickchartButtonContainerElement);\n      }\n\n      appendQuickchartButton(table);\n    ",
            "text/html": [
              "\n",
              "  <div id=\"df-2c0cb044-e4a5-4374-9fff-c0e094d5cf48\" class=\"colab-df-container\">\n",
              "    <div>\n",
              "<style scoped>\n",
              "    .dataframe tbody tr th:only-of-type {\n",
              "        vertical-align: middle;\n",
              "    }\n",
              "\n",
              "    .dataframe tbody tr th {\n",
              "        vertical-align: top;\n",
              "    }\n",
              "\n",
              "    .dataframe thead th {\n",
              "        text-align: right;\n",
              "    }\n",
              "</style>\n",
              "<table border=\"1\" class=\"dataframe\">\n",
              "  <thead>\n",
              "    <tr style=\"text-align: right;\">\n",
              "      <th></th>\n",
              "      <th>question</th>\n",
              "      <th>answer</th>\n",
              "      <th>date</th>\n",
              "      <th>gender</th>\n",
              "      <th>player</th>\n",
              "      <th>ranking</th>\n",
              "      <th>opponent</th>\n",
              "      <th>result</th>\n",
              "      <th>stage</th>\n",
              "      <th>tournament</th>\n",
              "      <th>tournament_type</th>\n",
              "      <th>perplexity</th>\n",
              "    </tr>\n",
              "  </thead>\n",
              "  <tbody>\n",
              "    <tr>\n",
              "      <th>0</th>\n",
              "      <td>That last set seemed like a faultless performa...</td>\n",
              "      <td>Yeah, I served extremely well, and then the tw...</td>\n",
              "      <td>2015-06-21</td>\n",
              "      <td>M</td>\n",
              "      <td>Andy Murray</td>\n",
              "      <td>3</td>\n",
              "      <td>Kevin Anderson</td>\n",
              "      <td>1</td>\n",
              "      <td>The Final</td>\n",
              "      <td>AEGON CHAMPIONSHIPS</td>\n",
              "      <td>ATP500</td>\n",
              "      <td>2265.549668</td>\n",
              "    </tr>\n",
              "    <tr>\n",
              "      <th>0</th>\n",
              "      <td>Did playing the semifinal, finishing that off ...</td>\n",
              "      <td>No, I don't think so. You know, it was an unfo...</td>\n",
              "      <td>2015-06-21</td>\n",
              "      <td>M</td>\n",
              "      <td>Andy Murray</td>\n",
              "      <td>3</td>\n",
              "      <td>Kevin Anderson</td>\n",
              "      <td>1</td>\n",
              "      <td>The Final</td>\n",
              "      <td>AEGON CHAMPIONSHIPS</td>\n",
              "      <td>ATP500</td>\n",
              "      <td>954.232958</td>\n",
              "    </tr>\n",
              "    <tr>\n",
              "      <th>0</th>\n",
              "      <td>Is that difficult mentally as much as physical...</td>\n",
              "      <td>Yeah, well, there is a lot of things that  you...</td>\n",
              "      <td>2015-06-21</td>\n",
              "      <td>M</td>\n",
              "      <td>Andy Murray</td>\n",
              "      <td>3</td>\n",
              "      <td>Kevin Anderson</td>\n",
              "      <td>1</td>\n",
              "      <td>The Final</td>\n",
              "      <td>AEGON CHAMPIONSHIPS</td>\n",
              "      <td>ATP500</td>\n",
              "      <td>1310.254706</td>\n",
              "    </tr>\n",
              "    <tr>\n",
              "      <th>0</th>\n",
              "      <td>You said on TV I think you said you felt bette...</td>\n",
              "      <td>Well, I think you just have to improve; otherw...</td>\n",
              "      <td>2015-06-21</td>\n",
              "      <td>M</td>\n",
              "      <td>Andy Murray</td>\n",
              "      <td>3</td>\n",
              "      <td>Kevin Anderson</td>\n",
              "      <td>1</td>\n",
              "      <td>The Final</td>\n",
              "      <td>AEGON CHAMPIONSHIPS</td>\n",
              "      <td>ATP500</td>\n",
              "      <td>3902.455463</td>\n",
              "    </tr>\n",
              "    <tr>\n",
              "      <th>0</th>\n",
              "      <td>The last time that you won this tournament you...</td>\n",
              "      <td>Yeah, but that means nothing, really. You know...</td>\n",
              "      <td>2015-06-21</td>\n",
              "      <td>M</td>\n",
              "      <td>Andy Murray</td>\n",
              "      <td>3</td>\n",
              "      <td>Kevin Anderson</td>\n",
              "      <td>1</td>\n",
              "      <td>The Final</td>\n",
              "      <td>AEGON CHAMPIONSHIPS</td>\n",
              "      <td>ATP500</td>\n",
              "      <td>662.420755</td>\n",
              "    </tr>\n",
              "  </tbody>\n",
              "</table>\n",
              "</div>\n",
              "    <div class=\"colab-df-buttons\">\n",
              "\n",
              "  <div class=\"colab-df-container\">\n",
              "    <button class=\"colab-df-convert\" onclick=\"convertToInteractive('df-2c0cb044-e4a5-4374-9fff-c0e094d5cf48')\"\n",
              "            title=\"Convert this dataframe to an interactive table.\"\n",
              "            style=\"display:none;\">\n",
              "\n",
              "  <svg xmlns=\"http://www.w3.org/2000/svg\" height=\"24px\" viewBox=\"0 -960 960 960\">\n",
              "    <path d=\"M120-120v-720h720v720H120Zm60-500h600v-160H180v160Zm220 220h160v-160H400v160Zm0 220h160v-160H400v160ZM180-400h160v-160H180v160Zm440 0h160v-160H620v160ZM180-180h160v-160H180v160Zm440 0h160v-160H620v160Z\"/>\n",
              "  </svg>\n",
              "    </button>\n",
              "\n",
              "  <style>\n",
              "    .colab-df-container {\n",
              "      display:flex;\n",
              "      gap: 12px;\n",
              "    }\n",
              "\n",
              "    .colab-df-convert {\n",
              "      background-color: #E8F0FE;\n",
              "      border: none;\n",
              "      border-radius: 50%;\n",
              "      cursor: pointer;\n",
              "      display: none;\n",
              "      fill: #1967D2;\n",
              "      height: 32px;\n",
              "      padding: 0 0 0 0;\n",
              "      width: 32px;\n",
              "    }\n",
              "\n",
              "    .colab-df-convert:hover {\n",
              "      background-color: #E2EBFA;\n",
              "      box-shadow: 0px 1px 2px rgba(60, 64, 67, 0.3), 0px 1px 3px 1px rgba(60, 64, 67, 0.15);\n",
              "      fill: #174EA6;\n",
              "    }\n",
              "\n",
              "    .colab-df-buttons div {\n",
              "      margin-bottom: 4px;\n",
              "    }\n",
              "\n",
              "    [theme=dark] .colab-df-convert {\n",
              "      background-color: #3B4455;\n",
              "      fill: #D2E3FC;\n",
              "    }\n",
              "\n",
              "    [theme=dark] .colab-df-convert:hover {\n",
              "      background-color: #434B5C;\n",
              "      box-shadow: 0px 1px 3px 1px rgba(0, 0, 0, 0.15);\n",
              "      filter: drop-shadow(0px 1px 2px rgba(0, 0, 0, 0.3));\n",
              "      fill: #FFFFFF;\n",
              "    }\n",
              "  </style>\n",
              "\n",
              "    <script>\n",
              "      const buttonEl =\n",
              "        document.querySelector('#df-2c0cb044-e4a5-4374-9fff-c0e094d5cf48 button.colab-df-convert');\n",
              "      buttonEl.style.display =\n",
              "        google.colab.kernel.accessAllowed ? 'block' : 'none';\n",
              "\n",
              "      async function convertToInteractive(key) {\n",
              "        const element = document.querySelector('#df-2c0cb044-e4a5-4374-9fff-c0e094d5cf48');\n",
              "        const dataTable =\n",
              "          await google.colab.kernel.invokeFunction('convertToInteractive',\n",
              "                                                    [key], {});\n",
              "        if (!dataTable) return;\n",
              "\n",
              "        const docLinkHtml = 'Like what you see? Visit the ' +\n",
              "          '<a target=\"_blank\" href=https://colab.research.google.com/notebooks/data_table.ipynb>data table notebook</a>'\n",
              "          + ' to learn more about interactive tables.';\n",
              "        element.innerHTML = '';\n",
              "        dataTable['output_type'] = 'display_data';\n",
              "        await google.colab.output.renderOutput(dataTable, element);\n",
              "        const docLink = document.createElement('div');\n",
              "        docLink.innerHTML = docLinkHtml;\n",
              "        element.appendChild(docLink);\n",
              "      }\n",
              "    </script>\n",
              "  </div>\n",
              "\n",
              "\n",
              "<div id=\"df-d8f938f0-f076-4bc8-bbb0-30443e139a04\">\n",
              "  <button class=\"colab-df-quickchart\" onclick=\"quickchart('df-d8f938f0-f076-4bc8-bbb0-30443e139a04')\"\n",
              "            title=\"Suggest charts\"\n",
              "            style=\"display:none;\">\n",
              "\n",
              "<svg xmlns=\"http://www.w3.org/2000/svg\" height=\"24px\"viewBox=\"0 0 24 24\"\n",
              "     width=\"24px\">\n",
              "    <g>\n",
              "        <path d=\"M19 3H5c-1.1 0-2 .9-2 2v14c0 1.1.9 2 2 2h14c1.1 0 2-.9 2-2V5c0-1.1-.9-2-2-2zM9 17H7v-7h2v7zm4 0h-2V7h2v10zm4 0h-2v-4h2v4z\"/>\n",
              "    </g>\n",
              "</svg>\n",
              "  </button>\n",
              "\n",
              "<style>\n",
              "  .colab-df-quickchart {\n",
              "      --bg-color: #E8F0FE;\n",
              "      --fill-color: #1967D2;\n",
              "      --hover-bg-color: #E2EBFA;\n",
              "      --hover-fill-color: #174EA6;\n",
              "      --disabled-fill-color: #AAA;\n",
              "      --disabled-bg-color: #DDD;\n",
              "  }\n",
              "\n",
              "  [theme=dark] .colab-df-quickchart {\n",
              "      --bg-color: #3B4455;\n",
              "      --fill-color: #D2E3FC;\n",
              "      --hover-bg-color: #434B5C;\n",
              "      --hover-fill-color: #FFFFFF;\n",
              "      --disabled-bg-color: #3B4455;\n",
              "      --disabled-fill-color: #666;\n",
              "  }\n",
              "\n",
              "  .colab-df-quickchart {\n",
              "    background-color: var(--bg-color);\n",
              "    border: none;\n",
              "    border-radius: 50%;\n",
              "    cursor: pointer;\n",
              "    display: none;\n",
              "    fill: var(--fill-color);\n",
              "    height: 32px;\n",
              "    padding: 0;\n",
              "    width: 32px;\n",
              "  }\n",
              "\n",
              "  .colab-df-quickchart:hover {\n",
              "    background-color: var(--hover-bg-color);\n",
              "    box-shadow: 0 1px 2px rgba(60, 64, 67, 0.3), 0 1px 3px 1px rgba(60, 64, 67, 0.15);\n",
              "    fill: var(--button-hover-fill-color);\n",
              "  }\n",
              "\n",
              "  .colab-df-quickchart-complete:disabled,\n",
              "  .colab-df-quickchart-complete:disabled:hover {\n",
              "    background-color: var(--disabled-bg-color);\n",
              "    fill: var(--disabled-fill-color);\n",
              "    box-shadow: none;\n",
              "  }\n",
              "\n",
              "  .colab-df-spinner {\n",
              "    border: 2px solid var(--fill-color);\n",
              "    border-color: transparent;\n",
              "    border-bottom-color: var(--fill-color);\n",
              "    animation:\n",
              "      spin 1s steps(1) infinite;\n",
              "  }\n",
              "\n",
              "  @keyframes spin {\n",
              "    0% {\n",
              "      border-color: transparent;\n",
              "      border-bottom-color: var(--fill-color);\n",
              "      border-left-color: var(--fill-color);\n",
              "    }\n",
              "    20% {\n",
              "      border-color: transparent;\n",
              "      border-left-color: var(--fill-color);\n",
              "      border-top-color: var(--fill-color);\n",
              "    }\n",
              "    30% {\n",
              "      border-color: transparent;\n",
              "      border-left-color: var(--fill-color);\n",
              "      border-top-color: var(--fill-color);\n",
              "      border-right-color: var(--fill-color);\n",
              "    }\n",
              "    40% {\n",
              "      border-color: transparent;\n",
              "      border-right-color: var(--fill-color);\n",
              "      border-top-color: var(--fill-color);\n",
              "    }\n",
              "    60% {\n",
              "      border-color: transparent;\n",
              "      border-right-color: var(--fill-color);\n",
              "    }\n",
              "    80% {\n",
              "      border-color: transparent;\n",
              "      border-right-color: var(--fill-color);\n",
              "      border-bottom-color: var(--fill-color);\n",
              "    }\n",
              "    90% {\n",
              "      border-color: transparent;\n",
              "      border-bottom-color: var(--fill-color);\n",
              "    }\n",
              "  }\n",
              "</style>\n",
              "\n",
              "  <script>\n",
              "    async function quickchart(key) {\n",
              "      const quickchartButtonEl =\n",
              "        document.querySelector('#' + key + ' button');\n",
              "      quickchartButtonEl.disabled = true;  // To prevent multiple clicks.\n",
              "      quickchartButtonEl.classList.add('colab-df-spinner');\n",
              "      try {\n",
              "        const charts = await google.colab.kernel.invokeFunction(\n",
              "            'suggestCharts', [key], {});\n",
              "      } catch (error) {\n",
              "        console.error('Error during call to suggestCharts:', error);\n",
              "      }\n",
              "      quickchartButtonEl.classList.remove('colab-df-spinner');\n",
              "      quickchartButtonEl.classList.add('colab-df-quickchart-complete');\n",
              "    }\n",
              "    (() => {\n",
              "      let quickchartButtonEl =\n",
              "        document.querySelector('#df-d8f938f0-f076-4bc8-bbb0-30443e139a04 button');\n",
              "      quickchartButtonEl.style.display =\n",
              "        google.colab.kernel.accessAllowed ? 'block' : 'none';\n",
              "    })();\n",
              "  </script>\n",
              "</div>\n",
              "    </div>\n",
              "  </div>\n"
            ],
            "text/plain": [
              "                                            question  \\\n",
              "0  That last set seemed like a faultless performa...   \n",
              "0  Did playing the semifinal, finishing that off ...   \n",
              "0  Is that difficult mentally as much as physical...   \n",
              "0  You said on TV I think you said you felt bette...   \n",
              "0  The last time that you won this tournament you...   \n",
              "\n",
              "                                              answer        date gender  \\\n",
              "0  Yeah, I served extremely well, and then the tw...  2015-06-21      M   \n",
              "0  No, I don't think so. You know, it was an unfo...  2015-06-21      M   \n",
              "0  Yeah, well, there is a lot of things that  you...  2015-06-21      M   \n",
              "0  Well, I think you just have to improve; otherw...  2015-06-21      M   \n",
              "0  Yeah, but that means nothing, really. You know...  2015-06-21      M   \n",
              "\n",
              "        player ranking        opponent result      stage           tournament  \\\n",
              "0  Andy Murray       3  Kevin Anderson      1  The Final  AEGON CHAMPIONSHIPS   \n",
              "0  Andy Murray       3  Kevin Anderson      1  The Final  AEGON CHAMPIONSHIPS   \n",
              "0  Andy Murray       3  Kevin Anderson      1  The Final  AEGON CHAMPIONSHIPS   \n",
              "0  Andy Murray       3  Kevin Anderson      1  The Final  AEGON CHAMPIONSHIPS   \n",
              "0  Andy Murray       3  Kevin Anderson      1  The Final  AEGON CHAMPIONSHIPS   \n",
              "\n",
              "  tournament_type   perplexity  \n",
              "0          ATP500  2265.549668  \n",
              "0          ATP500   954.232958  \n",
              "0          ATP500  1310.254706  \n",
              "0          ATP500  3902.455463  \n",
              "0          ATP500   662.420755  "
            ]
          },
          "execution_count": 188,
          "metadata": {},
          "output_type": "execute_result"
        }
      ],
      "source": [
        "# apply perplexity calculater\n",
        "df['perplexity'] = df['question'].apply(perplexity_score)\n",
        "df.head()"
      ]
    },
    {
      "cell_type": "markdown",
      "metadata": {
        "id": "csvZD5xsbJTo"
      },
      "source": [
        "## Compare male and female players' perplexities by questions"
      ]
    },
    {
      "cell_type": "code",
      "execution_count": 189,
      "metadata": {
        "colab": {
          "base_uri": "https://localhost:8080/"
        },
        "id": "Ps-u7elWNssC",
        "outputId": "90ea3e16-e81f-4f3b-ba99-d75b794003ab"
      },
      "outputs": [
        {
          "name": "stdout",
          "output_type": "stream",
          "text": [
            "Mann-Whitney U Statistic: 827480822.5 \n",
            "\n",
            "P-Value: 0.01766126180457031 \n",
            "\n",
            "The difference is statistically significant. Male questions are more game-related.\n"
          ]
        }
      ],
      "source": [
        "# Perform Mann-Whitney U test\n",
        "from scipy.stats import mannwhitneyu\n",
        "statistic, p_value = mannwhitneyu(df[df['gender'] == 'M']['perplexity'], df[df['gender'] == 'F']['perplexity'])\n",
        "\n",
        "print(f\"Mann-Whitney U Statistic: {statistic} \\n\")\n",
        "print(f\"P-Value: {p_value} \\n\")\n",
        "\n",
        "# Check for statistical significance\n",
        "alpha = 0.05\n",
        "if p_value < alpha:\n",
        "    print(\"The difference is statistically significant. Male questions are more game-related.\")\n",
        "else:\n",
        "    print(\"There is no statistically significant difference between male and female questions.\")"
      ]
    },
    {
      "cell_type": "markdown",
      "metadata": {
        "id": "JzfLa5jUboeA"
      },
      "source": [
        "## Compare female and male players which have at least 10 questions in the dataset (perplexities by player)"
      ]
    },
    {
      "cell_type": "code",
      "execution_count": 190,
      "metadata": {
        "colab": {
          "base_uri": "https://localhost:8080/"
        },
        "id": "ZjCj9nlSR1rv",
        "outputId": "c04d939b-ce00-435f-fc95-3b498c41db20"
      },
      "outputs": [
        {
          "name": "stdout",
          "output_type": "stream",
          "text": [
            "Mann-Whitney U Statistic: 3.5 \n",
            "\n",
            "P-Value: 0.8221867672380183 \n",
            "\n",
            "There is no statistically significant difference between male and female questions.\n"
          ]
        }
      ],
      "source": [
        "# Perform Mann-Whitney U test\n",
        "statistic, p_value = mannwhitneyu([1,2,33], [4,2,4])\n",
        "\n",
        "print(f\"Mann-Whitney U Statistic: {statistic} \\n\")\n",
        "print(f\"P-Value: {p_value} \\n\")\n",
        "\n",
        "alpha = 0.05\n",
        "if p_value < alpha:\n",
        "    print(\"The difference is statistically significant. Male questions are more game-related.\")\n",
        "else:\n",
        "    print(\"There is no statistically significant difference between male and female questions.\")"
      ]
    },
    {
      "cell_type": "markdown",
      "metadata": {
        "id": "oJD3PbvGbwa1"
      },
      "source": [
        "## 2. Relationship with Other Factors"
      ]
    },
    {
      "cell_type": "code",
      "execution_count": 191,
      "metadata": {
        "colab": {
          "base_uri": "https://localhost:8080/"
        },
        "id": "8OoBqV9aN3e0",
        "outputId": "1b545c45-e2c3-4374-8f58-936c67b1ca49"
      },
      "outputs": [
        {
          "name": "stderr",
          "output_type": "stream",
          "text": [
            "[nltk_data] Downloading package stopwords to /root/nltk_data...\n",
            "[nltk_data]   Package stopwords is already up-to-date!\n",
            "[nltk_data] Downloading package punkt to /root/nltk_data...\n",
            "[nltk_data]   Package punkt is already up-to-date!\n"
          ]
        },
        {
          "data": {
            "text/plain": [
              "True"
            ]
          },
          "execution_count": 191,
          "metadata": {},
          "output_type": "execute_result"
        }
      ],
      "source": [
        "import nltk\n",
        "from nltk.corpus import stopwords\n",
        "from nltk.tokenize import word_tokenize\n",
        "nltk.download('stopwords')\n",
        "nltk.download('punkt')"
      ]
    },
    {
      "cell_type": "code",
      "execution_count": 192,
      "metadata": {
        "id": "VWlKCx8UOTfA"
      },
      "outputs": [],
      "source": [
        "# Example documents\n",
        "documents = [q for q in df['question']]\n",
        "\n",
        "# Tokenize documents and remove stop words\n",
        "stop_words = set(stopwords.words('english'))\n",
        "tokenized_documents = [\n",
        "    [word.lower() for word in word_tokenize(doc) if word.lower() not in stop_words]\n",
        "    for doc in documents\n",
        "]\n",
        "\n",
        "\n",
        "# Replace capitalized words and phrases with \"<NOUN>\"\n",
        "for doc in tokenized_documents:\n",
        "    for i, word in enumerate(doc):\n",
        "        if word.istitle() and word.lower() not in stop_words:\n",
        "            doc[i] = \"<NOUN>\""
      ]
    },
    {
      "cell_type": "code",
      "execution_count": 193,
      "metadata": {
        "id": "p7vrXMzqOqK3"
      },
      "outputs": [],
      "source": [
        "# Calculate Document Frequency (DF)\n",
        "document_frequency = Counter()\n",
        "for doc in tokenized_documents:\n",
        "    document_frequency.update(set(doc))\n",
        "\n",
        "# Total number of documents\n",
        "total_documents = len(tokenized_documents)\n",
        "\n",
        "# Calculate IDF for each term\n",
        "idf_values = {term: math.log(total_documents / (document_frequency[term] + 1)) for term in document_frequency}"
      ]
    },
    {
      "cell_type": "code",
      "execution_count": 194,
      "metadata": {
        "id": "ZgitbHheO4fl"
      },
      "outputs": [],
      "source": [
        "# Tokenize questions and remove stop words for questions\n",
        "def tokenize_and_remove_stopwords(question):\n",
        "    tokens = [word.lower() for word in word_tokenize(question) if word.lower() not in stop_words]\n",
        "    return set(tokens)\n",
        "\n",
        "df['tokenized_question'] = df['question'].apply(tokenize_and_remove_stopwords)"
      ]
    },
    {
      "cell_type": "markdown",
      "metadata": {
        "id": "5k-evtgRcEwg"
      },
      "source": [
        "\n",
        "## **2.1 Typical vs. Atypical Questions**"
      ]
    },
    {
      "cell_type": "code",
      "execution_count": 195,
      "metadata": {
        "colab": {
          "base_uri": "https://localhost:8080/",
          "height": 229
        },
        "id": "lqc62QUHPKZq",
        "outputId": "dc36b2ee-cdc1-4984-e7f9-b31a769b5147"
      },
      "outputs": [
        {
          "data": {
            "application/vnd.google.colaboratory.module+javascript": "\n      import \"https://ssl.gstatic.com/colaboratory/data_table/881c4a0d49046431/data_table.js\";\n\n      const table = window.createDataTable({\n        data: [[\"0\",\n\"That last set seemed like a faultless performance. Is that the way you saw it?\",\n{\n            'v': 3.659323662887842,\n            'f': \"3.659323662887842\",\n        }],\n [\"0\",\n\"Did playing the semifinal, finishing that off first, help you going into the second match in the afternoon?\",\n{\n            'v': 3.6149588353671267,\n            'f': \"3.6149588353671267\",\n        }],\n [\"0\",\n\"Is that difficult mentally as much as physically to switch on and switch off and switch back on again?\",\n{\n            'v': 3.8833145242068214,\n            'f': \"3.8833145242068214\",\n        }],\n [\"0\",\n\"You said on TV I think you said you felt better than when you won Wimbledon in 2013. Just wondered if you could sort of quantify where you think the improvements are.\",\n{\n            'v': 4.840166394935915,\n            'f': \"4.840166394935915\",\n        }],\n [\"0\",\n\"The last time that you won this tournament you went on to win Wimbledon.\",\n{\n            'v': 3.057795657901714,\n            'f': \"3.057795657901714\",\n        }]],\n        columns: [[\"string\", \"index\"], [\"string\", \"question\"], [\"number\", \"atypicality_score\"]],\n        columnOptions: [{\"width\": \"1px\", \"className\": \"index_column\"}],\n        rowsPerPage: 25,\n        helpUrl: \"https://colab.research.google.com/notebooks/data_table.ipynb\",\n        suppressOutputScrolling: true,\n        minimumWidth: undefined,\n      });\n\n      function appendQuickchartButton(parentElement) {\n        let quickchartButtonContainerElement = document.createElement('div');\n        quickchartButtonContainerElement.innerHTML = `\n<div id=\"df-0f842b02-60aa-48cc-9432-39a03546630e\">\n  <button class=\"colab-df-quickchart\" onclick=\"quickchart('df-0f842b02-60aa-48cc-9432-39a03546630e')\"\n            title=\"Suggest charts\"\n            style=\"display:none;\">\n    \n<svg xmlns=\"http://www.w3.org/2000/svg\" height=\"24px\"viewBox=\"0 0 24 24\"\n     width=\"24px\">\n    <g>\n        <path d=\"M19 3H5c-1.1 0-2 .9-2 2v14c0 1.1.9 2 2 2h14c1.1 0 2-.9 2-2V5c0-1.1-.9-2-2-2zM9 17H7v-7h2v7zm4 0h-2V7h2v10zm4 0h-2v-4h2v4z\"/>\n    </g>\n</svg>\n  </button>\n  \n<style>\n  .colab-df-quickchart {\n      --bg-color: #E8F0FE;\n      --fill-color: #1967D2;\n      --hover-bg-color: #E2EBFA;\n      --hover-fill-color: #174EA6;\n      --disabled-fill-color: #AAA;\n      --disabled-bg-color: #DDD;\n  }\n\n  [theme=dark] .colab-df-quickchart {\n      --bg-color: #3B4455;\n      --fill-color: #D2E3FC;\n      --hover-bg-color: #434B5C;\n      --hover-fill-color: #FFFFFF;\n      --disabled-bg-color: #3B4455;\n      --disabled-fill-color: #666;\n  }\n\n  .colab-df-quickchart {\n    background-color: var(--bg-color);\n    border: none;\n    border-radius: 50%;\n    cursor: pointer;\n    display: none;\n    fill: var(--fill-color);\n    height: 32px;\n    padding: 0;\n    width: 32px;\n  }\n\n  .colab-df-quickchart:hover {\n    background-color: var(--hover-bg-color);\n    box-shadow: 0 1px 2px rgba(60, 64, 67, 0.3), 0 1px 3px 1px rgba(60, 64, 67, 0.15);\n    fill: var(--button-hover-fill-color);\n  }\n\n  .colab-df-quickchart-complete:disabled,\n  .colab-df-quickchart-complete:disabled:hover {\n    background-color: var(--disabled-bg-color);\n    fill: var(--disabled-fill-color);\n    box-shadow: none;\n  }\n\n  .colab-df-spinner {\n    border: 2px solid var(--fill-color);\n    border-color: transparent;\n    border-bottom-color: var(--fill-color);\n    animation:\n      spin 1s steps(1) infinite;\n  }\n\n  @keyframes spin {\n    0% {\n      border-color: transparent;\n      border-bottom-color: var(--fill-color);\n      border-left-color: var(--fill-color);\n    }\n    20% {\n      border-color: transparent;\n      border-left-color: var(--fill-color);\n      border-top-color: var(--fill-color);\n    }\n    30% {\n      border-color: transparent;\n      border-left-color: var(--fill-color);\n      border-top-color: var(--fill-color);\n      border-right-color: var(--fill-color);\n    }\n    40% {\n      border-color: transparent;\n      border-right-color: var(--fill-color);\n      border-top-color: var(--fill-color);\n    }\n    60% {\n      border-color: transparent;\n      border-right-color: var(--fill-color);\n    }\n    80% {\n      border-color: transparent;\n      border-right-color: var(--fill-color);\n      border-bottom-color: var(--fill-color);\n    }\n    90% {\n      border-color: transparent;\n      border-bottom-color: var(--fill-color);\n    }\n  }\n</style>\n\n  <script>\n    async function quickchart(key) {\n      const quickchartButtonEl =\n        document.querySelector('#' + key + ' button');\n      quickchartButtonEl.disabled = true;  // To prevent multiple clicks.\n      quickchartButtonEl.classList.add('colab-df-spinner');\n      try {\n        const charts = await google.colab.kernel.invokeFunction(\n            'suggestCharts', [key], {});\n      } catch (error) {\n        console.error('Error during call to suggestCharts:', error);\n      }\n      quickchartButtonEl.classList.remove('colab-df-spinner');\n      quickchartButtonEl.classList.add('colab-df-quickchart-complete');\n    }\n    (() => {\n      let quickchartButtonEl =\n        document.querySelector('#df-0f842b02-60aa-48cc-9432-39a03546630e button');\n      quickchartButtonEl.style.display =\n        google.colab.kernel.accessAllowed ? 'block' : 'none';\n    })();\n  </script>\n</div>`;\n        parentElement.appendChild(quickchartButtonContainerElement);\n      }\n\n      appendQuickchartButton(table);\n    ",
            "text/html": [
              "\n",
              "  <div id=\"df-afd115b1-0c5a-49d1-8586-bfda6eb4f479\" class=\"colab-df-container\">\n",
              "    <div>\n",
              "<style scoped>\n",
              "    .dataframe tbody tr th:only-of-type {\n",
              "        vertical-align: middle;\n",
              "    }\n",
              "\n",
              "    .dataframe tbody tr th {\n",
              "        vertical-align: top;\n",
              "    }\n",
              "\n",
              "    .dataframe thead th {\n",
              "        text-align: right;\n",
              "    }\n",
              "</style>\n",
              "<table border=\"1\" class=\"dataframe\">\n",
              "  <thead>\n",
              "    <tr style=\"text-align: right;\">\n",
              "      <th></th>\n",
              "      <th>question</th>\n",
              "      <th>atypicality_score</th>\n",
              "    </tr>\n",
              "  </thead>\n",
              "  <tbody>\n",
              "    <tr>\n",
              "      <th>0</th>\n",
              "      <td>That last set seemed like a faultless performa...</td>\n",
              "      <td>3.659324</td>\n",
              "    </tr>\n",
              "    <tr>\n",
              "      <th>0</th>\n",
              "      <td>Did playing the semifinal, finishing that off ...</td>\n",
              "      <td>3.614959</td>\n",
              "    </tr>\n",
              "    <tr>\n",
              "      <th>0</th>\n",
              "      <td>Is that difficult mentally as much as physical...</td>\n",
              "      <td>3.883315</td>\n",
              "    </tr>\n",
              "    <tr>\n",
              "      <th>0</th>\n",
              "      <td>You said on TV I think you said you felt bette...</td>\n",
              "      <td>4.840166</td>\n",
              "    </tr>\n",
              "    <tr>\n",
              "      <th>0</th>\n",
              "      <td>The last time that you won this tournament you...</td>\n",
              "      <td>3.057796</td>\n",
              "    </tr>\n",
              "  </tbody>\n",
              "</table>\n",
              "</div>\n",
              "    <div class=\"colab-df-buttons\">\n",
              "\n",
              "  <div class=\"colab-df-container\">\n",
              "    <button class=\"colab-df-convert\" onclick=\"convertToInteractive('df-afd115b1-0c5a-49d1-8586-bfda6eb4f479')\"\n",
              "            title=\"Convert this dataframe to an interactive table.\"\n",
              "            style=\"display:none;\">\n",
              "\n",
              "  <svg xmlns=\"http://www.w3.org/2000/svg\" height=\"24px\" viewBox=\"0 -960 960 960\">\n",
              "    <path d=\"M120-120v-720h720v720H120Zm60-500h600v-160H180v160Zm220 220h160v-160H400v160Zm0 220h160v-160H400v160ZM180-400h160v-160H180v160Zm440 0h160v-160H620v160ZM180-180h160v-160H180v160Zm440 0h160v-160H620v160Z\"/>\n",
              "  </svg>\n",
              "    </button>\n",
              "\n",
              "  <style>\n",
              "    .colab-df-container {\n",
              "      display:flex;\n",
              "      gap: 12px;\n",
              "    }\n",
              "\n",
              "    .colab-df-convert {\n",
              "      background-color: #E8F0FE;\n",
              "      border: none;\n",
              "      border-radius: 50%;\n",
              "      cursor: pointer;\n",
              "      display: none;\n",
              "      fill: #1967D2;\n",
              "      height: 32px;\n",
              "      padding: 0 0 0 0;\n",
              "      width: 32px;\n",
              "    }\n",
              "\n",
              "    .colab-df-convert:hover {\n",
              "      background-color: #E2EBFA;\n",
              "      box-shadow: 0px 1px 2px rgba(60, 64, 67, 0.3), 0px 1px 3px 1px rgba(60, 64, 67, 0.15);\n",
              "      fill: #174EA6;\n",
              "    }\n",
              "\n",
              "    .colab-df-buttons div {\n",
              "      margin-bottom: 4px;\n",
              "    }\n",
              "\n",
              "    [theme=dark] .colab-df-convert {\n",
              "      background-color: #3B4455;\n",
              "      fill: #D2E3FC;\n",
              "    }\n",
              "\n",
              "    [theme=dark] .colab-df-convert:hover {\n",
              "      background-color: #434B5C;\n",
              "      box-shadow: 0px 1px 3px 1px rgba(0, 0, 0, 0.15);\n",
              "      filter: drop-shadow(0px 1px 2px rgba(0, 0, 0, 0.3));\n",
              "      fill: #FFFFFF;\n",
              "    }\n",
              "  </style>\n",
              "\n",
              "    <script>\n",
              "      const buttonEl =\n",
              "        document.querySelector('#df-afd115b1-0c5a-49d1-8586-bfda6eb4f479 button.colab-df-convert');\n",
              "      buttonEl.style.display =\n",
              "        google.colab.kernel.accessAllowed ? 'block' : 'none';\n",
              "\n",
              "      async function convertToInteractive(key) {\n",
              "        const element = document.querySelector('#df-afd115b1-0c5a-49d1-8586-bfda6eb4f479');\n",
              "        const dataTable =\n",
              "          await google.colab.kernel.invokeFunction('convertToInteractive',\n",
              "                                                    [key], {});\n",
              "        if (!dataTable) return;\n",
              "\n",
              "        const docLinkHtml = 'Like what you see? Visit the ' +\n",
              "          '<a target=\"_blank\" href=https://colab.research.google.com/notebooks/data_table.ipynb>data table notebook</a>'\n",
              "          + ' to learn more about interactive tables.';\n",
              "        element.innerHTML = '';\n",
              "        dataTable['output_type'] = 'display_data';\n",
              "        await google.colab.output.renderOutput(dataTable, element);\n",
              "        const docLink = document.createElement('div');\n",
              "        docLink.innerHTML = docLinkHtml;\n",
              "        element.appendChild(docLink);\n",
              "      }\n",
              "    </script>\n",
              "  </div>\n",
              "\n",
              "\n",
              "<div id=\"df-f88ccdec-cdec-4679-8001-fb96a45968ca\">\n",
              "  <button class=\"colab-df-quickchart\" onclick=\"quickchart('df-f88ccdec-cdec-4679-8001-fb96a45968ca')\"\n",
              "            title=\"Suggest charts\"\n",
              "            style=\"display:none;\">\n",
              "\n",
              "<svg xmlns=\"http://www.w3.org/2000/svg\" height=\"24px\"viewBox=\"0 0 24 24\"\n",
              "     width=\"24px\">\n",
              "    <g>\n",
              "        <path d=\"M19 3H5c-1.1 0-2 .9-2 2v14c0 1.1.9 2 2 2h14c1.1 0 2-.9 2-2V5c0-1.1-.9-2-2-2zM9 17H7v-7h2v7zm4 0h-2V7h2v10zm4 0h-2v-4h2v4z\"/>\n",
              "    </g>\n",
              "</svg>\n",
              "  </button>\n",
              "\n",
              "<style>\n",
              "  .colab-df-quickchart {\n",
              "      --bg-color: #E8F0FE;\n",
              "      --fill-color: #1967D2;\n",
              "      --hover-bg-color: #E2EBFA;\n",
              "      --hover-fill-color: #174EA6;\n",
              "      --disabled-fill-color: #AAA;\n",
              "      --disabled-bg-color: #DDD;\n",
              "  }\n",
              "\n",
              "  [theme=dark] .colab-df-quickchart {\n",
              "      --bg-color: #3B4455;\n",
              "      --fill-color: #D2E3FC;\n",
              "      --hover-bg-color: #434B5C;\n",
              "      --hover-fill-color: #FFFFFF;\n",
              "      --disabled-bg-color: #3B4455;\n",
              "      --disabled-fill-color: #666;\n",
              "  }\n",
              "\n",
              "  .colab-df-quickchart {\n",
              "    background-color: var(--bg-color);\n",
              "    border: none;\n",
              "    border-radius: 50%;\n",
              "    cursor: pointer;\n",
              "    display: none;\n",
              "    fill: var(--fill-color);\n",
              "    height: 32px;\n",
              "    padding: 0;\n",
              "    width: 32px;\n",
              "  }\n",
              "\n",
              "  .colab-df-quickchart:hover {\n",
              "    background-color: var(--hover-bg-color);\n",
              "    box-shadow: 0 1px 2px rgba(60, 64, 67, 0.3), 0 1px 3px 1px rgba(60, 64, 67, 0.15);\n",
              "    fill: var(--button-hover-fill-color);\n",
              "  }\n",
              "\n",
              "  .colab-df-quickchart-complete:disabled,\n",
              "  .colab-df-quickchart-complete:disabled:hover {\n",
              "    background-color: var(--disabled-bg-color);\n",
              "    fill: var(--disabled-fill-color);\n",
              "    box-shadow: none;\n",
              "  }\n",
              "\n",
              "  .colab-df-spinner {\n",
              "    border: 2px solid var(--fill-color);\n",
              "    border-color: transparent;\n",
              "    border-bottom-color: var(--fill-color);\n",
              "    animation:\n",
              "      spin 1s steps(1) infinite;\n",
              "  }\n",
              "\n",
              "  @keyframes spin {\n",
              "    0% {\n",
              "      border-color: transparent;\n",
              "      border-bottom-color: var(--fill-color);\n",
              "      border-left-color: var(--fill-color);\n",
              "    }\n",
              "    20% {\n",
              "      border-color: transparent;\n",
              "      border-left-color: var(--fill-color);\n",
              "      border-top-color: var(--fill-color);\n",
              "    }\n",
              "    30% {\n",
              "      border-color: transparent;\n",
              "      border-left-color: var(--fill-color);\n",
              "      border-top-color: var(--fill-color);\n",
              "      border-right-color: var(--fill-color);\n",
              "    }\n",
              "    40% {\n",
              "      border-color: transparent;\n",
              "      border-right-color: var(--fill-color);\n",
              "      border-top-color: var(--fill-color);\n",
              "    }\n",
              "    60% {\n",
              "      border-color: transparent;\n",
              "      border-right-color: var(--fill-color);\n",
              "    }\n",
              "    80% {\n",
              "      border-color: transparent;\n",
              "      border-right-color: var(--fill-color);\n",
              "      border-bottom-color: var(--fill-color);\n",
              "    }\n",
              "    90% {\n",
              "      border-color: transparent;\n",
              "      border-bottom-color: var(--fill-color);\n",
              "    }\n",
              "  }\n",
              "</style>\n",
              "\n",
              "  <script>\n",
              "    async function quickchart(key) {\n",
              "      const quickchartButtonEl =\n",
              "        document.querySelector('#' + key + ' button');\n",
              "      quickchartButtonEl.disabled = true;  // To prevent multiple clicks.\n",
              "      quickchartButtonEl.classList.add('colab-df-spinner');\n",
              "      try {\n",
              "        const charts = await google.colab.kernel.invokeFunction(\n",
              "            'suggestCharts', [key], {});\n",
              "      } catch (error) {\n",
              "        console.error('Error during call to suggestCharts:', error);\n",
              "      }\n",
              "      quickchartButtonEl.classList.remove('colab-df-spinner');\n",
              "      quickchartButtonEl.classList.add('colab-df-quickchart-complete');\n",
              "    }\n",
              "    (() => {\n",
              "      let quickchartButtonEl =\n",
              "        document.querySelector('#df-f88ccdec-cdec-4679-8001-fb96a45968ca button');\n",
              "      quickchartButtonEl.style.display =\n",
              "        google.colab.kernel.accessAllowed ? 'block' : 'none';\n",
              "    })();\n",
              "  </script>\n",
              "</div>\n",
              "    </div>\n",
              "  </div>\n"
            ],
            "text/plain": [
              "                                            question  atypicality_score\n",
              "0  That last set seemed like a faultless performa...           3.659324\n",
              "0  Did playing the semifinal, finishing that off ...           3.614959\n",
              "0  Is that difficult mentally as much as physical...           3.883315\n",
              "0  You said on TV I think you said you felt bette...           4.840166\n",
              "0  The last time that you won this tournament you...           3.057796"
            ]
          },
          "execution_count": 195,
          "metadata": {},
          "output_type": "execute_result"
        }
      ],
      "source": [
        "# Calculate atypicality score for each question\n",
        "def compute_atypicality_score(tokenized_question, idf_values):\n",
        "    if not tokenized_question:\n",
        "        return None\n",
        "    num_words = len(tokenized_question)\n",
        "    score = sum(idf_values.get(word, 0) for word in tokenized_question) / num_words\n",
        "    return score\n",
        "\n",
        "df['atypicality_score'] = df['tokenized_question'].apply(lambda x: compute_atypicality_score(x, idf_values))\n",
        "\n",
        "# Print or use the transcript_df_expanded with atypicality scores as needed\n",
        "df[['question', 'atypicality_score']].head()"
      ]
    },
    {
      "cell_type": "code",
      "execution_count": 211,
      "metadata": {
        "colab": {
          "base_uri": "https://localhost:8080/"
        },
        "id": "XJL-g_zkcuQq",
        "outputId": "148eb42b-b70c-4afa-ea77-ea6a204566b7"
      },
      "outputs": [
        {
          "name": "stdout",
          "output_type": "stream",
          "text": [
            "Typical:\n",
            "                                question  atypicality_score\n",
            "5016  Have you played each other before?            1.59648\n",
            "Atypical:\n",
            "                      question  atypicality_score\n",
            "2575  Are you a vodka drinker?           6.580595\n"
          ]
        }
      ],
      "source": [
        "# test example questions:\n",
        "print('Typical:')\n",
        "print(df[['question', 'atypicality_score']][df['question'] == \"Have you played each other before?\"])\n",
        "print('Atypical:')\n",
        "print(df[['question', 'atypicality_score']][df['question'] == \"Are you a vodka drinker?\"])"
      ]
    },
    {
      "cell_type": "markdown",
      "metadata": {
        "id": "vEUgjg0qcPpc"
      },
      "source": [
        "### Count the atypicality of each question"
      ]
    },
    {
      "cell_type": "code",
      "execution_count": 196,
      "metadata": {
        "colab": {
          "base_uri": "https://localhost:8080/"
        },
        "id": "BrbnxTFDPWKZ",
        "outputId": "25109fc1-4f84-42c1-8f97-312db1720a9e"
      },
      "outputs": [
        {
          "name": "stdout",
          "output_type": "stream",
          "text": [
            "Mann-Whitney U test p-value of atypcial group: 3.114719928349132e-05\n"
          ]
        }
      ],
      "source": [
        "cutoff = df['atypicality_score'].mean()\n",
        "df['atypicality'] = df['atypicality_score'].apply(lambda x: 'Atypical' if x > cutoff else 'Typical')\n",
        "\n",
        "# Test gender difference between typical and atypical groups\n",
        "# Atypical group\n",
        "male_atypical = df[(df['gender'] == 'M') & (df['atypicality_score'] > cutoff)]\n",
        "female_atypical = df[(df['gender'] == 'F') & (df['atypicality_score']  > cutoff)]\n",
        "statistic, p_value = mannwhitneyu(male_atypical['perplexity'], female_atypical['perplexity'])\n",
        "print(f'Mann-Whitney U test p-value of atypcial group: {p_value}')\n"
      ]
    },
    {
      "cell_type": "code",
      "execution_count": 197,
      "metadata": {
        "colab": {
          "base_uri": "https://localhost:8080/"
        },
        "id": "sc87Of9vQF66",
        "outputId": "747da29a-a1a2-47b6-da56-e14b7701c7f6"
      },
      "outputs": [
        {
          "name": "stdout",
          "output_type": "stream",
          "text": [
            "Mann-Whitney U test p-value of typical group: 0.5979210176093868\n"
          ]
        }
      ],
      "source": [
        "# Typical group\n",
        "male_typical = df[(df['gender'] == 'M') & (df['atypicality_score'] <= cutoff)]\n",
        "female_typical = df[(df['gender'] == 'F') & (df['atypicality_score']  <= cutoff)]\n",
        "statistic, p_value = mannwhitneyu(male_typical['perplexity'], female_typical['perplexity'])\n",
        "print(f'Mann-Whitney U test p-value of typical group: {p_value}')"
      ]
    },
    {
      "cell_type": "code",
      "execution_count": 198,
      "metadata": {
        "colab": {
          "base_uri": "https://localhost:8080/",
          "height": 466
        },
        "id": "CDSxxzuXQjvZ",
        "outputId": "7bd6c06e-6542-4f1d-d482-5ba70c24da87"
      },
      "outputs": [
        {
          "data": {
            "text/plain": [
              "<Axes: xlabel='atypicality', ylabel='perplexity'>"
            ]
          },
          "execution_count": 198,
          "metadata": {},
          "output_type": "execute_result"
        },
        {
          "data": {
            "image/png": "[encoded data removed]",
            "text/plain": [
              "<Figure size 640x480 with 1 Axes>"
            ]
          },
          "metadata": {},
          "output_type": "display_data"
        }
      ],
      "source": [
        "import matplotlib.pyplot as plt\n",
        "import seaborn as sns\n",
        "#create bar chart\n",
        "sns.barplot(x='atypicality', y='perplexity', hue='gender', data=df, palette='RdBu')"
      ]
    },
    {
      "cell_type": "code",
      "execution_count": 199,
      "metadata": {
        "colab": {
          "base_uri": "https://localhost:8080/"
        },
        "id": "EzI_vJmCQmWP",
        "outputId": "8120b2be-751f-468a-f685-6992ab096e60"
      },
      "outputs": [
        {
          "name": "stdout",
          "output_type": "stream",
          "text": [
            "Mann-Whitney U test p-value of top 10 group: 0.7062678440155711\n",
            "Mann-Whitney U test p-value of rest group: 0.008823000524376021\n"
          ]
        }
      ],
      "source": [
        "# Test gender difference between top10 and rest players\n",
        "# Label for plot\n",
        "df['top10'] = df['ranking'].apply(lambda x: 'Top10' if x <= 10 else 'Rest')\n",
        "# Top10 group\n",
        "male_top10 = df[(df['gender'] == 'M') & (df['ranking'] <= 10)]\n",
        "female_top10 = df[(df['gender'] == 'F') & (df['ranking']  <= 10)]\n",
        "statistic, p_value = mannwhitneyu(male_top10['perplexity'], female_top10['perplexity'])\n",
        "print(f'Mann-Whitney U test p-value of top 10 players group: {p_value}')\n",
        "\n",
        "# Rest group\n",
        "male_rest = df[(df['gender'] == 'M') & (df['ranking'] > 10)]\n",
        "female_rest = df[(df['gender'] == 'F') & (df['ranking'] > 10)]\n",
        "statistic, p_value = mannwhitneyu(male_rest['perplexity'], female_rest['perplexity'])\n",
        "print(f'Mann-Whitney U test p-value of rest group: {p_value}')"
      ]
    },
    {
      "cell_type": "code",
      "execution_count": 202,
      "metadata": {
        "colab": {
          "base_uri": "https://localhost:8080/",
          "height": 466
        },
        "id": "X-AKAzUFQrqt",
        "outputId": "2d29eb78-178f-4332-f871-8e3909ab60da"
      },
      "outputs": [
        {
          "data": {
            "text/plain": [
              "<Axes: xlabel='top10', ylabel='perplexity'>"
            ]
          },
          "execution_count": 202,
          "metadata": {},
          "output_type": "execute_result"
        },
        {
          "data": {
            "image/png": "[encoded data removed]",
            "text/plain": [
              "<Figure size 640x480 with 1 Axes>"
            ]
          },
          "metadata": {},
          "output_type": "display_data"
        }
      ],
      "source": [
        "import matplotlib.pyplot as plt\n",
        "import seaborn as sns\n",
        "#create bar chart\n",
        "sns.barplot(x='top10', y='perplexity', hue='gender', data=df, palette='RdBu')"
      ]
    },
    {
      "cell_type": "code",
      "execution_count": null,
      "metadata": {},
      "outputs": [],
      "source": [
        "# win group\n",
        "male_top10 = df[(df['gender'] == 'M') & (df['result'] == 1)]\n",
        "female_top10 = df[(df['gender'] == 'F') & (df['result']  == 1)]\n",
        "statistic, p_value = mannwhitneyu(male_top10['perplexity'], female_top10['perplexity'])\n",
        "print(f'Mann-Whitney U test p-value of win group: {p_value}')\n",
        "\n",
        "# lose group\n",
        "male_rest = df[(df['gender'] == 'M') & (df['result'] == 0)]\n",
        "female_rest = df[(df['gender'] == 'F') & (df['result'] == 0)]\n",
        "statistic, p_value = mannwhitneyu(male_rest['perplexity'], female_rest['perplexity'])\n",
        "print(f'Mann-Whitney U test p-value of lose group: {p_value}')"
      ]
    },
    {
      "cell_type": "code",
      "execution_count": 203,
      "metadata": {
        "colab": {
          "base_uri": "https://localhost:8080/",
          "height": 466
        },
        "id": "X0jF7KIAQs1A",
        "outputId": "8365de94-6d0f-4cb0-c55e-e40813c49623"
      },
      "outputs": [
        {
          "data": {
            "text/plain": [
              "<Axes: xlabel='result', ylabel='perplexity'>"
            ]
          },
          "execution_count": 203,
          "metadata": {},
          "output_type": "execute_result"
        },
        {
          "data": {
            "image/png": "[encoded data removed]",
            "text/plain": [
              "<Figure size 640x480 with 1 Axes>"
            ]
          },
          "metadata": {},
          "output_type": "display_data"
        }
      ],
      "source": [
        "import matplotlib.pyplot as plt\n",
        "import seaborn as sns\n",
        "#create bar chart\n",
        "sns.barplot(x='result', y='perplexity', hue='gender', data=df, palette='RdBu')"
      ]
    },
    {
      "cell_type": "markdown",
      "metadata": {
        "id": "n0BXi6rBeQ5j"
      },
      "source": [
        "# End of Tutorial"
      ]
    },
    {
      "cell_type": "code",
      "execution_count": null,
      "metadata": {
        "id": "XZ-sZBvCeV-O"
      },
      "outputs": [],
      "source": []
    }
  ],
  "metadata": {
    "colab": {
      "provenance": []
    },
    "kernelspec": {
      "display_name": "Python 3",
      "name": "python3"
    },
    "language_info": {
      "name": "python"
    }
  },
  "nbformat": 4,
  "nbformat_minor": 0
}
